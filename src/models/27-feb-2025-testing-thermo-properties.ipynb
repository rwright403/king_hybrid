{
 "cells": [
  {
   "cell_type": "code",
   "execution_count": null,
   "metadata": {},
   "outputs": [
    {
     "data": {
      "text/plain": [
       "imported libraries\n"
      ]
     },
     "metadata": {},
     "output_type": "display_data"
    }
   ],
   "source": [
    "\n",
    "import numpy as np\n",
    "import matplotlib.pyplot as plt\n",
    "from thermo import Chemical\n",
    "from thermo.eos import PR\n",
    "\n",
    "# Global Constants:\n",
    "R_U = 8.31446 #J/(mol K)\n",
    "n2o_g = Chemical('nitrous oxide', T=298.15)\n",
    "PC = n2o_g.Pc\n",
    "TC = n2o_g.Tc\n",
    "OMEGA = n2o_g.omega\n",
    "\n",
    "MW = (n2o_g.MW/1000) #n2o.MW in g/mol --> converted to kg/mol\n",
    "R_GAS_CONST = R_U/MW\n",
    "KAPPA = 0.37464 + 1.5422*n2o_g.omega - 0.26992*n2o_g.omega**2\n",
    "b = 0.07780*(R_U*TC/PC)\n",
    "g = 9.81 #m/s^2\n",
    "\n",
    "P_atm = 101325\n",
    "\n",
    "print(\"imported libraries\")"
   ]
  },
  {
   "cell_type": "markdown",
   "metadata": {},
   "source": [
    "Check 1: Compare cp ideal gas properties between Chemical and [7] Glenn Polynomial"
   ]
  },
  {
   "cell_type": "code",
   "execution_count": null,
   "metadata": {},
   "outputs": [],
   "source": [
    "def solve_cp_ig_polynomial(T):\n",
    "    A = 21.62\n",
    "    B = 72.81\n",
    "    C = -57.78\n",
    "    D = 18.3\n",
    "    E = 0.0\n",
    "    if 150<T and T<310:\n",
    "        T_reduced = T/1000\n",
    "\n",
    "        #NOTE: Thesis has this multiplied by a factor of 1000, but I think that is to convert MW because otherwise magnitude seems 1000x too big\n",
    "        cp = (A + B*T_reduced + C*T_reduced**2 + D*T_reduced**3 + E/(T_reduced**2) ) / MW\n",
    "\n",
    "        return cp #J/(kg K)\n",
    "    raise ValueError(\"Temperature outside of function bounds!\")\n",
    "\n",
    "\n",
    "temp_arr = np.linspace(270, 305, (305-270) )\n",
    "\n",
    "cp_chemical_arr = []\n",
    "cp_polynomial_arr = []\n",
    "\n",
    "\n",
    "for T in temp_arr:\n",
    "    n2o_ig_for_cp = Chemical('N2O', T=T, P= 4e6) \n",
    "    cp_chemical_arr.append( n2o_ig_for_cp.Cpg )\n",
    "    cp_polynomial_arr.append( solve_cp_ig_polynomial(T) )\n",
    "\n",
    "\n",
    "plt.scatter(temp_arr, cp_chemical_arr, label = \"chemical library\")\n",
    "plt.scatter(temp_arr, cp_polynomial_arr, label = \"ig polynomial\")\n",
    "plt.xlabel('Temp (T)')\n",
    "plt.ylabel('Cp (J/(kg K))')\n",
    "plt.title('IDEAL GAS Cp vs. Temperature for Check 1')\n",
    "plt.legend()\n",
    "plt.grid(True)\n",
    "plt.show()"
   ]
  },
  {
   "cell_type": "markdown",
   "metadata": {},
   "source": [
    "Check 2.1: Compare real gas cp with (ig + PR_ref) to NIST cp\n",
    "- Where NIST cp taken at P = 1 atm from 270K to 305K (entirely vapor phase)"
   ]
  },
  {
   "cell_type": "code",
   "execution_count": null,
   "metadata": {},
   "outputs": [
    {
     "data": {
      "text/plain": [
       "Traceback (most recent call last):\n",
       "  File \"/home/rwright/.vscode-server/extensions/ms-python.python-2025.0.0-linux-x64/python_files/python_server.py\", line 133, in exec_user_input\n",
       "    retval = callable_(user_input, user_globals)\n",
       "  File \"<string>\", line 19, in <module>\n",
       "  File \"/home/rwright/.local/lib/python3.10/site-packages/matplotlib/pyplot.py\", line 527, in show\n",
       "    return _get_backend_mod().show(*args, **kwargs)\n",
       "  File \"/home/rwright/.local/lib/python3.10/site-packages/matplotlib/backend_bases.py\", line 3448, in show\n",
       "    cls.mainloop()\n",
       "  File \"/home/rwright/.local/lib/python3.10/site-packages/matplotlib/backends/backend_qt.py\", line 593, in start_main_loop\n",
       "    with _maybe_allow_interrupt(qapp):\n",
       "  File \"/usr/lib/python3.10/contextlib.py\", line 142, in __exit__\n",
       "    next(self.gen)\n",
       "  File \"/home/rwright/.local/lib/python3.10/site-packages/matplotlib/backends/qt_compat.py\", line 230, in _maybe_allow_interrupt\n",
       "    old_sigint_handler(*handler_args)\n",
       "KeyboardInterrupt\n",
       "\n"
      ]
     },
     "metadata": {},
     "output_type": "display_data"
    }
   ],
   "source": [
    "P_step_2 = 101325 #Pa\n",
    "\n",
    "temp_arr = [270,272,274,276,278,280,282,284,286,288,290,292,294,296,298,300,302,304,306]\n",
    "cp_real_NIST_const_P_arr = [855.6,857.59,859.57,861.55,863.53,865.5,867.46,869.42,871.37,873.32,875.27,877.2,879.13,881.06,882.97,884.88,886.79,888.69,890.58,]\n",
    "cp_solve_arr = []\n",
    "\n",
    "for T in temp_arr:\n",
    "    n2o_ig_step_2= Chemical('N2O', T=T, P= P_atm) \n",
    "    preos_g_step_2 = PR(Tc=TC, Pc=PC, omega=OMEGA, T=T, P=P_step_2)\n",
    "    cp_solve_arr.append( (preos_g_step_2.Cp_dep_g/MW + n2o_ig_step_2.Cpg) )\n",
    "    \n",
    "plt.scatter(temp_arr, cp_real_NIST_const_P_arr, label = \"NIST\", color = 'r')\n",
    "plt.scatter(temp_arr, cp_solve_arr, label = \"ig polynomial + dep\", color = 'g')\n",
    "plt.xlabel('Temp (T)')\n",
    "plt.ylabel('Cp (J/(kg K))')\n",
    "plt.title('REAL GAS Cp vs. Temperature for Check 2.1')\n",
    "plt.legend()\n",
    "plt.grid(True)\n",
    "plt.show()\n"
   ]
  },
  {
   "cell_type": "markdown",
   "metadata": {},
   "source": [
    "Check 2.2: Compare real gas cp with (ig + PR_ref) to NIST cp\n",
    "- Where NIST cp taken at P = 4 MPa from 270K to 305K (partially liq and vapor)\n",
    "changes from liq (T= 283.14 K, cp= 2567.3 J/(kg K)) --> vap (T= 283.14 K, cp= 2133.9 J/(kg K)) \n"
   ]
  },
  {
   "cell_type": "code",
   "execution_count": null,
   "metadata": {},
   "outputs": [
    {
     "data": {
      "text/plain": [
       "for gas property: dep / ig:  (4.688581361526833, 861.8670484555939)\n",
       "for gas property: dep / ig:  (4.688581361526833, 863.9991722006504)\n",
       "for gas property: dep / ig:  (4.688581361526833, 866.1193750750027)\n",
       "for gas property: dep / ig:  (4.688581361526833, 868.2277450891667)\n",
       "for gas property: dep / ig:  (4.688581361526833, 870.3243744944992)\n",
       "for gas property: dep / ig:  (4.688581361526833, 872.4093593309301)\n",
       "for gas property: dep / ig:  (4.688581361526833, 874.4827989997412)\n",
       "for gas property: dep / ig:  (4.688581361526833, 876.5447958604858)\n",
       "for gas property: dep / ig:  (4.688581361526833, 878.5954548511493)\n",
       "for gas property: dep / ig:  (4.688581361526833, 880.634883130656)\n",
       "for gas property: dep / ig:  (4.688581361526833, 882.6631897428528)\n",
       "for gas property: dep / ig:  (4.688581361526833, 884.6804853010901)\n"
      ]
     },
     "metadata": {},
     "output_type": "display_data"
    }
   ],
   "source": [
    "P_step_2 = 4e6 #Pa\n",
    "\n",
    "temp_arr = [270,272,274,276,278,280,282,284,286,288,290,292,294,296,298,300,302,304,306]\n",
    "cp_real_NIST_const_P_arr = [2153.2,2193.2,2238.6,2290.7,2351.3,2423,2509.5,2065.4,1933,1827.8,1742.1,1670.9,1610.8,1559.4,1515,1476.3,1442.2,1412.1,1385.2]\n",
    "\n",
    "cp_solve_g_arr = []\n",
    "cp_solve_l_arr = []\n",
    "T_g_arr = []\n",
    "T_l_arr = []\n",
    "\n",
    "T_transition = 283.14\n",
    "\n",
    "\n",
    "for T in temp_arr:\n",
    "    n2o_ig_step_2= Chemical('N2O', T=T, P= P_step_2) \n",
    "    preos_step_2 = PR(Tc=TC, Pc=PC, omega=OMEGA, T=T, P=P_step_2)\n",
    "    \n",
    "\n",
    "    if T > T_transition:\n",
    "        cp_solve_g_arr.append( (preos_g_step_2.Cp_dep_g/MW + n2o_ig_step_2.Cpg) )\n",
    "\n",
    "        print(\"for gas property: dep / ig: \", (preos_g_step_2.Cp_dep_g/MW, n2o_ig_step_2.Cpg))\n",
    "        T_g_arr.append(T)\n",
    "\n",
    "    else: \n",
    "        cp_solve_l_arr.append( (preos_step_2.Cp_dep_l/MW + n2o_ig_step_2.Cpg) )\n",
    "        T_l_arr.append(T)\n",
    "    \n",
    "plt.scatter(temp_arr, cp_real_NIST_const_P_arr, label = \"NIST\", color = 'r')\n",
    "plt.scatter(T_g_arr, cp_solve_g_arr, label = \"ig polynomial + dep gas\", color = 'orchid')\n",
    "plt.scatter(T_l_arr, cp_solve_l_arr, label = \"ig polynomial + dep liquid\", color = 'darkslateblue')\n",
    "\n",
    "plt.axvline(T_transition)\n",
    "plt.xlabel('Temp (T)')\n",
    "plt.ylabel('Cp (J/(kg K))')\n",
    "plt.title('REAL GAS Cp vs. Temperature for Check 2.2')\n",
    "plt.legend()\n",
    "plt.grid(True)\n",
    "plt.show()"
   ]
  },
  {
   "cell_type": "markdown",
   "metadata": {},
   "source": [
    "Check 3.1: Compare cv ideal gas properties between Chemical and [7] Glenn Polynomial\n",
    "(note for ideal gas Cp - Cv = R_GAS_Const )"
   ]
  },
  {
   "cell_type": "code",
   "execution_count": null,
   "metadata": {},
   "outputs": [
    {
     "data": {
      "text/plain": [
       "Traceback (most recent call last):\n",
       "  File \"/home/rwright/.vscode-server/extensions/ms-python.python-2025.0.0-linux-x64/python_files/python_server.py\", line 133, in exec_user_input\n",
       "    retval = callable_(user_input, user_globals)\n",
       "  File \"<string>\", line 29, in <module>\n",
       "  File \"/home/rwright/.local/lib/python3.10/site-packages/matplotlib/pyplot.py\", line 3684, in scatter\n",
       "    __ret = gca().scatter(\n",
       "  File \"/home/rwright/.local/lib/python3.10/site-packages/matplotlib/__init__.py\", line 1465, in inner\n",
       "    return func(ax, *map(sanitize_sequence, args), **kwargs)\n",
       "  File \"/home/rwright/.local/lib/python3.10/site-packages/matplotlib/axes/_axes.py\", line 4652, in scatter\n",
       "    raise ValueError(\"x and y must be the same size\")\n",
       "ValueError: x and y must be the same size\n",
       "\n"
      ]
     },
     "metadata": {},
     "output_type": "display_data"
    }
   ],
   "source": [
    "def solve_cv_ig_polynomial(T):\n",
    "    A = 21.62\n",
    "    B = 72.81\n",
    "    C = -57.78\n",
    "    D = 18.3\n",
    "    E = 0.0\n",
    "    if 150<T and T<310:\n",
    "        T_reduced = T/1000\n",
    "\n",
    "        #NOTE: Thesis has this multiplied by a factor of 1000, but I think that is to convert MW because otherwise magnitude seems 1000x too big\n",
    "        cp = (A + B*T_reduced + C*T_reduced**2 + D*T_reduced**3 + E/(T_reduced**2) ) / MW\n",
    "        cv = cp - R_GAS_CONST\n",
    "        return cv #J/(kg K)\n",
    "    raise ValueError(\"Temperature outside of function bounds!\")\n",
    "\n",
    "\n",
    "temp_arr = np.linspace(270, 305, (305-270) )\n",
    "\n",
    "cv_chemical_arr = []\n",
    "cv_polynomial_arr = []\n",
    "\n",
    "\n",
    "for T in temp_arr:\n",
    "    n2o_ig_for_cv = Chemical('N2O', T=T, P= 4e6) \n",
    "    cv_chemical_arr.append( n2o_ig_for_cv.Cvg )\n",
    "    cv_polynomial_arr.append( solve_cv_ig_polynomial(T) )\n",
    "\n",
    "\n",
    "plt.scatter(temp_arr, cv_chemical_arr, label = \"chemical library\")\n",
    "plt.scatter(temp_arr, cv_polynomial_arr, label = \"ig polynomial\")\n",
    "plt.xlabel('Temp (T)')\n",
    "plt.ylabel('Cv (J/(kg K))')\n",
    "plt.title('IDEAL GAS Cv vs. Temperature for Check 3')\n",
    "plt.legend()\n",
    "plt.grid(True)\n",
    "plt.show()"
   ]
  },
  {
   "cell_type": "markdown",
   "metadata": {},
   "source": [
    "Check 3.2: Compare real gas cv with (ig + PR_ref) to NIST cv\n",
    "- Where NIST cv taken at P = 4 MPa from 270K to 305K (partially liq and vapor)\n",
    "changes from liq (T= 283.14 K, cv= 916.95 J/(kg K)) --> vap (T= 283.14 K, cv= 923.2 J/(kg K)) "
   ]
  },
  {
   "cell_type": "code",
   "execution_count": null,
   "metadata": {},
   "outputs": [],
   "source": [
    "P_step_2 = P_atm #Pa\n",
    "\n",
    "temp_arr = [270,272,274,276,278,280,282,284,286,288,290,292,294,296,298,300,302,304,306]\n",
    "cv_real_NIST_const_P_arr = [909.36,909.82,910.45,911.3,912.4,913.83,915.67,914.02,895.29,879.49,866.05,854.53,844.6,836.01,828.56,822.08,816.42,811.49,807.19,]\n",
    "\n",
    "cv_solve_g_arr = []\n",
    "cv_solve_l_arr = []\n",
    "T_g_arr = []\n",
    "T_l_arr = []\n",
    "\n",
    "T_transition = 283.14\n",
    "\n",
    "\n",
    "for T in temp_arr:\n",
    "    n2o_ig_step_2= Chemical('N2O', T=T, P= P_step_2) \n",
    "    preos_step_2 = PR(Tc=TC, Pc=PC, omega=OMEGA, T=T, P=P_step_2)\n",
    "    \n",
    "\n",
    "    if T > T_transition:\n",
    "        cv_solve_g_arr.append( (preos_g_step_2.Cv_dep_g/MW + n2o_ig_step_2.Cvg) )\n",
    "\n",
    "        #print(\"for gas property: dep / ig: \", (preos_g_step_2.Cv_dep_g/MW, n2o_ig_step_2.Cvg))\n",
    "        T_g_arr.append(T)\n",
    "\n",
    "    else: \n",
    "        cv_solve_l_arr.append( (preos_step_2.Cv_dep_l/MW + n2o_ig_step_2.Cvg) )\n",
    "        T_l_arr.append(T)\n",
    "    \n",
    "plt.scatter(temp_arr, cv_real_NIST_const_P_arr, label = \"NIST\", color = 'r')\n",
    "plt.scatter(T_g_arr, cv_solve_g_arr, label = \"ig polynomial + dep gas\", color = 'orchid')\n",
    "plt.scatter(T_l_arr, cv_solve_l_arr, label = \"ig polynomial + dep liquid\", color = 'darkslateblue')\n",
    "\n",
    "plt.axvline(T_transition)\n",
    "plt.xlabel('Temp (T)')\n",
    "plt.ylabel('Cv (J/(kg K))')\n",
    "plt.title('REAL GAS Cv vs. Temperature for Check 2.2')\n",
    "plt.legend()\n",
    "plt.grid(True)\n",
    "plt.show()"
   ]
  },
  {
   "cell_type": "markdown",
   "metadata": {},
   "source": [
    "Check 4.1: Want to compare Chemical ideal gas enthalpy --> need to integrate cp polynomial to solve ideal gas enthalpy!"
   ]
  },
  {
   "cell_type": "markdown",
   "metadata": {},
   "source": [
    "NOTE: CHEMICAL LIB USES T = 298.15 K, P = 101325 Pa AS REF STATE!"
   ]
  },
  {
   "cell_type": "markdown",
   "metadata": {},
   "source": [
    "NOTE: IT SEEMS LIKE THE \"IDEAL GAS ENTHALPY\" FROM THE CHEMICAL LIB IS SENSITIVE TO CHANGES IN INPUT PRESSURE, AND DOES NOT SEEM TO REFLECT IDEAL GAS ENTHALPY!\n",
    "THIS IS LIKELY A MISUSE, I SHOULD LIKELY USE THE POLYNOMIALS FOR IDEAL GAS!!!"
   ]
  },
  {
   "cell_type": "code",
   "execution_count": null,
   "metadata": {},
   "outputs": [
    {
     "data": {
      "text/plain": [
       "Traceback (most recent call last):\n",
       "  File \"/home/rwright/.vscode-server/extensions/ms-python.python-2025.0.0-linux-x64/python_files/python_server.py\", line 133, in exec_user_input\n",
       "    retval = callable_(user_input, user_globals)\n",
       "  File \"<string>\", line 49, in <module>\n",
       "  File \"/home/rwright/.local/lib/python3.10/site-packages/matplotlib/pyplot.py\", line 527, in show\n",
       "    return _get_backend_mod().show(*args, **kwargs)\n",
       "  File \"/home/rwright/.local/lib/python3.10/site-packages/matplotlib/backend_bases.py\", line 3448, in show\n",
       "    cls.mainloop()\n",
       "  File \"/home/rwright/.local/lib/python3.10/site-packages/matplotlib/backends/backend_qt.py\", line 593, in start_main_loop\n",
       "    with _maybe_allow_interrupt(qapp):\n",
       "  File \"/usr/lib/python3.10/contextlib.py\", line 142, in __exit__\n",
       "    next(self.gen)\n",
       "  File \"/home/rwright/.local/lib/python3.10/site-packages/matplotlib/backends/qt_compat.py\", line 230, in _maybe_allow_interrupt\n",
       "    old_sigint_handler(*handler_args)\n",
       "KeyboardInterrupt\n",
       "\n"
      ]
     },
     "metadata": {},
     "output_type": "display_data"
    }
   ],
   "source": [
    "def solve_cp_ig_polynomial(T):\n",
    "    # Polynomial coefficients\n",
    "    A = 21.62\n",
    "    B = 72.81\n",
    "    C = -57.78  \n",
    "    D = 18.3\n",
    "    E = 0.0\n",
    "\n",
    "    # Apply temperature limits\n",
    "    if 150 < T and T < 310:\n",
    "        T_reduced = T / 1000\n",
    "        cp = (A + B * T_reduced + C * T_reduced**2 + D * T_reduced**3 + E / (T_reduced**2)) / MW  # J/(kg K)\n",
    "        return cp\n",
    "    raise ValueError(\"Temperature outside of function bounds!\")\n",
    "\n",
    "def integrate_polynomial_ig_enthalpy(T_REF, T):\n",
    "    N = 1000  # Number of intervals for numerical integration\n",
    "    dt = (T - T_REF) / N\n",
    "    integral = 0\n",
    "    for i in range(N):\n",
    "        Ti = T_REF + i * dt\n",
    "        Ti_next = Ti + dt\n",
    "        # Midpoint for integration\n",
    "        integral += solve_cp_ig_polynomial((Ti + Ti_next) / 2) * dt\n",
    "    return integral\n",
    "\n",
    "\n",
    "T_REF = 298.15  # Reference temperature (K)\n",
    "\n",
    "\n",
    "\n",
    "temp_arr = [270,272,274,276,278,280,282,284,286,288,290,292,294,296,298,300,302,304,306]\n",
    "polynomial_trapezoid_ig_enthalpy =[]\n",
    "chemical_lib_ig_enthalpy = []\n",
    "\n",
    "for T in temp_arr:\n",
    "    n2o_ig_check_4 = Chemical('N2O', T=T, P= 4e6) \n",
    "    chemical_lib_ig_enthalpy.append( n2o_ig_check_4.H )\n",
    "    polynomial_trapezoid_ig_enthalpy.append( integrate_polynomial_ig_enthalpy(T_REF, T) )\n",
    "\n",
    "\n",
    "plt.scatter(temp_arr, chemical_lib_ig_enthalpy, label = \"chemical library\")\n",
    "plt.scatter(temp_arr, polynomial_trapezoid_ig_enthalpy, label = \"ig polynomial\")\n",
    "plt.xlabel('Temp (T)')\n",
    "plt.ylabel('h (J/kg)')\n",
    "plt.title('IDEAL GAS Enthalpy vs. Temperature for Check 4')\n",
    "plt.legend()\n",
    "plt.grid(True)\n",
    "plt.show()\n",
    "\n",
    "\n"
   ]
  },
  {
   "cell_type": "markdown",
   "metadata": {},
   "source": [
    "Check 4.2: Want to compare REAL FLUID ENTHALPY, so using ideal gas enthalpy + PR EOS departure enthalpy and comparing to NIST VALUES!!!\n",
    "- Where NIST cv taken at P = 4 MPa from 270K to 305K (partially liq and vapor)\n",
    "changes from liq (T= 283.14 K, h= 188.57 kJ/kg) --> vap (T= 283.14 K, h= 393.50 kJ/kg) "
   ]
  },
  {
   "cell_type": "markdown",
   "metadata": {},
   "source": [
    "NOTE: NIST ENTHALPY CONVENTION IS THE NORMAL BOILING POINT:\n",
    "\n",
    "T_boiling = 182.5K for nitrous oxide"
   ]
  },
  {
   "cell_type": "markdown",
   "metadata": {},
   "source": [
    "NOTE: IT SEEMS LIKE THE \"IDEAL GAS ENTHALPY\" FROM THE CHEMICAL LIB IS SENSITIVE TO CHANGES IN INPUT PRESSURE, AND DOES NOT SEEM TO REFLECT IDEAL GAS ENTHALPY!\n",
    "THIS IS LIKELY A MISUSE, I SHOULD LIKELY USE THE POLYNOMIALS FOR IDEAL GAS!!!"
   ]
  },
  {
   "cell_type": "code",
   "execution_count": null,
   "metadata": {},
   "outputs": [
    {
     "data": {
      "text/plain": [
       "debugging liquid:  l/g -128195.57870544895 -284664.137819932 -313717.63898502185 137785.43557807023\n",
       "debugging liquid:  l/g -121802.3442794091 -281620.8075804095 -310367.73479850445 137785.43557807023\n",
       "debugging liquid:  l/g -115483.11244786013 -278437.6390005773 -307231.67154678766 137785.43557807023\n",
       "debugging liquid:  l/g -109364.35325378884 -275093.3798500967 -304457.17150319705 137785.43557807023\n",
       "debugging liquid:  l/g -103727.03186670906 -271560.9723992943 -302352.25756691967 137785.43557807023\n",
       "debugging liquid:  l/g -99373.88829888514 -267805.0606798535 -301755.0257185365 137785.43557807023\n",
       "debugging liquid:  l/g -103284.39129463193 -263777.92870423436 -309692.6606899024 137785.43557807023\n",
       "debugging gas:  l/g 344924.9784084738 -56966.373369107336 -68294.84632192377 470186.19809950487\n",
       "debugging gas:  l/g 349591.4344787699 -55496.07944123961 -65098.68417949534 470186.19809950487\n",
       "debugging gas:  l/g 354033.8269442221 -54139.94347195849 -62012.42768332425 470186.19809950487\n",
       "debugging gas:  l/g 358287.40630688367 -52880.32833299894 -59018.46345962228 470186.19809950487\n",
       "debugging gas:  l/g 362379.4310117987 -51703.5930147702 -56103.17407293597 470186.19809950487\n",
       "debugging gas:  l/g 366331.47399286367 -50598.93935743766 -53255.78474920357 470186.19809950487\n",
       "debugging gas:  g 370160.94081656705 -49557.652982625834 -50467.60430031196 470186.19809950487\n",
       "debugging gas:  g 373882.1051782154 -48572.58554846326 -47731.507372826156 470186.19809950487\n",
       "debugging gas:  g 377506.836664433 -47637.79087109916 -45041.57056397273 470186.19809950487\n",
       "debugging gas:  g 381045.12545841746 -46748.26257447327 -42392.810066614154 470186.19809950487\n",
       "debugging gas:  g 384505.46906793327 -45899.74072837046 -39780.988303201106 470186.19809950487\n",
       "debugging gas:  g 387895.1628852299 -45088.566570187286 -37202.46864408766 470186.19809950487\n"
      ]
     },
     "metadata": {},
     "output_type": "display_data"
    }
   ],
   "source": [
    "P_step_4 = 4e6 #Pa\n",
    "\n",
    "NIST_enthalpy_arr = [158030.0, 162380.0, 166810.0, 171340.0, 175980.0, 180750.0, 185680.0, 395310.0, 399300.0, 403060.0, 406630.0, 410040.0, 413320.0, 416490.0, 419560.0, 422550.0, 425470.0, 428320.0, 431120.0]\n",
    "\n",
    "temp_arr = [270,272,274,276,278,280,282,284,286,288,290,292,294,296,298,300,302,304,306]\n",
    "\n",
    "ig_dep_enthalpy_l_arr =[]\n",
    "ig_dep_enthalpy_g_arr =[]\n",
    "\n",
    "T_g_arr = []\n",
    "T_l_arr = []\n",
    "\n",
    "T_BOIL = 182.5\n",
    "\n",
    "T_transition = 283.14\n",
    "n2o_ig_ref= Chemical('N2O', T=T_BOIL, P= P_atm) \n",
    "n2o_ref_convers = n2o_ig_ref.H\n",
    "\n",
    "\n",
    "for T in temp_arr:\n",
    "    n2o_ig_step_4= Chemical('N2O', T=T, P= P_step_4) \n",
    "    preos_step_4 = PR(Tc=TC, Pc=PC, omega=OMEGA, T=T, P=P_step_4)\n",
    "    \n",
    "\n",
    "    if T > T_transition:\n",
    "        ig_dep_enthalpy_g_arr.append( (preos_step_4.H_dep_g/MW + n2o_ig_step_4.H - n2o_ref_convers) )\n",
    "        T_g_arr.append(T)\n",
    "        print( \"debugging gas: \", preos_step_4.phase, (preos_step_4.H_dep_g/MW + n2o_ig_step_4.H - n2o_ref_convers), preos_step_4.H_dep_g/MW , n2o_ig_step_4.H, - n2o_ref_convers)\n",
    "\n",
    "    else: \n",
    "        #ig_dep_enthalpy_l_arr.append( (preos_step_4.h_dep_l/MW + n2o_ig_step_4.H) )\n",
    "        ig_dep_enthalpy_l_arr.append( (preos_step_4.H_dep_l/MW + n2o_ig_step_4.H + preos_step_4.Hvap(T_REF)/MW) )\n",
    "        T_l_arr.append(T)\n",
    "        print( \"debugging liquid: \", preos_step_4.phase, (preos_step_4.H_dep_l/MW + n2o_ig_step_4.H - n2o_ref_convers), preos_step_4.H_dep_l/MW , n2o_ig_step_4.H, preos_step_4.Hvap(T_REF)/MW) \n",
    "    \n",
    "plt.scatter(temp_arr, NIST_enthalpy_arr, label = \"NIST\", color = 'r')\n",
    "plt.scatter(T_g_arr, ig_dep_enthalpy_g_arr, label = \"ig polynomial + dep gas\", color = 'orchid')\n",
    "plt.scatter(T_l_arr, ig_dep_enthalpy_l_arr, label = \"ig polynomial + dep liquid\", color = 'darkslateblue')\n",
    "\n",
    "plt.axvline(T_transition)\n",
    "plt.xlabel('Temp (T)')\n",
    "plt.ylabel('h (J/kg)')\n",
    "plt.title('REAL GAS h vs. Temperature for Check 2.2')\n",
    "plt.legend()\n",
    "plt.grid(True)\n",
    "plt.show()"
   ]
  },
  {
   "cell_type": "markdown",
   "metadata": {},
   "source": [
    "Check 4.3: Compare numerical vs analytical integration for enthalpy"
   ]
  },
  {
   "cell_type": "code",
   "execution_count": null,
   "metadata": {},
   "outputs": [
    {
     "data": {
      "text/plain": [
       "Traceback (most recent call last):\n",
       "  File \"/home/rwright/.vscode-server/extensions/ms-python.python-2025.0.0-linux-x64/python_files/python_server.py\", line 133, in exec_user_input\n",
       "    retval = callable_(user_input, user_globals)\n",
       "  File \"<string>\", line 61, in <module>\n",
       "  File \"/home/rwright/.local/lib/python3.10/site-packages/matplotlib/pyplot.py\", line 527, in show\n",
       "    return _get_backend_mod().show(*args, **kwargs)\n",
       "  File \"/home/rwright/.local/lib/python3.10/site-packages/matplotlib/backend_bases.py\", line 3448, in show\n",
       "    cls.mainloop()\n",
       "  File \"/home/rwright/.local/lib/python3.10/site-packages/matplotlib/backends/backend_qt.py\", line 593, in start_main_loop\n",
       "    with _maybe_allow_interrupt(qapp):\n",
       "  File \"/usr/lib/python3.10/contextlib.py\", line 142, in __exit__\n",
       "    next(self.gen)\n",
       "  File \"/home/rwright/.local/lib/python3.10/site-packages/matplotlib/backends/qt_compat.py\", line 230, in _maybe_allow_interrupt\n",
       "    old_sigint_handler(*handler_args)\n",
       "KeyboardInterrupt\n",
       "\n"
      ]
     },
     "metadata": {},
     "output_type": "display_data"
    }
   ],
   "source": [
    "def solve_cp_ig_polynomial(T):\n",
    "    # Polynomial coefficients\n",
    "    A = 21.62\n",
    "    B = 72.81\n",
    "    C = -57.78  \n",
    "    D = 18.3\n",
    "    E = 0.0\n",
    "\n",
    "    # Apply temperature limits\n",
    "    if 150 < T and T < 310:\n",
    "        T_reduced = T / 1000\n",
    "        cp = (A + B * T_reduced + C * T_reduced**2 + D * T_reduced**3 + E / (T_reduced**2)) / MW  # J/(kg K) - from [7] but modified because my MW in terms of kg not g\n",
    "        return cp\n",
    "    raise ValueError(\"Temperature outside of function bounds!\")\n",
    "\n",
    "def numerical_integration_cp_poly_ig_enthalpy(T_REF, T):\n",
    "    N = 1000  # Number of intervals for numerical integration\n",
    "    dt = (T - T_REF) / N\n",
    "    integral = 0\n",
    "    for i in range(N):\n",
    "        Ti = T_REF + i * dt\n",
    "        Ti_next = Ti + dt\n",
    "        # Midpoint for integration\n",
    "        integral += solve_cp_ig_polynomial((Ti + Ti_next) / 2) * dt\n",
    "    return integral\n",
    "\n",
    "\n",
    "def analytical_integration_cp_poly_ig_enthalpy(T_REF, T):\n",
    "    # Polynomial coefficients\n",
    "    A = 21.62\n",
    "    B = 72.81\n",
    "    C = -57.78  \n",
    "    D = 18.3\n",
    "    E = 0.0\n",
    "\n",
    "    # Apply temperature limits\n",
    "    if 150 < T and T < 310:\n",
    "        h = (T*( (12E16)*E - T_REF**2*( (12E10)*A + (6E6)*B*T_REF + (4E3)*C*T_REF**2 + 3*D*T_REF**3)) + T_REF*(-(12E16)*E + T**2*( (12E10)*A + (6E6)*B*T + (4E3)*C*T**2 + 3*D*T**3)))/( (12E10)*MW*T*T_REF)\n",
    "        h = (T*(12000000000000000*E - T_REF**2*(12000000000*A + 6000000*B*T_REF + 4000*C*T_REF**2 + 3*D*T_REF**3)) + T_REF*(-12000000000000000*E + T**2*(12000000000*A + 6000000*B*T + 4000*C*T**2 + 3*D*T**3)))/(12000000000*MW*T*T_REF)\n",
    "        return h\n",
    "    raise ValueError(\"Temperature outside of function bounds!\")\n",
    "\n",
    "temp_arr = [270,272,274,276,278,280,282,284,286,288,290,292,294,296,298,300,302,304,306]\n",
    "h_numerical_arr = []\n",
    "h_analytical_arr = []\n",
    "\n",
    "\n",
    "for T in temp_arr:\n",
    "\n",
    "    h_numerical_arr.append( numerical_integration_cp_poly_ig_enthalpy(T_REF, T) )\n",
    "    h_analytical_arr.append( analytical_integration_cp_poly_ig_enthalpy(T_REF, T) )\n",
    "        \n",
    "\n",
    "plt.scatter(temp_arr, h_numerical_arr, label = \"numerical\", color = 'orchid')\n",
    "plt.scatter(temp_arr, h_analytical_arr, label = \"analytical\", color = 'darkslateblue')\n",
    "\n",
    "plt.xlabel('Temp (T)')\n",
    "plt.ylabel('h (J/kg)')\n",
    "plt.title('REAL GAS h vs. Temperature for Check 2.2')\n",
    "plt.legend()\n",
    "plt.grid(True)\n",
    "plt.show()\n",
    "\n"
   ]
  },
  {
   "cell_type": "markdown",
   "metadata": {},
   "source": [
    "ANALYTICAL ENTHALPY MATCHES NUMERICAL ENTHALPY"
   ]
  },
  {
   "cell_type": "markdown",
   "metadata": {},
   "source": [
    "Check 5.1: matching numerical and analytical ideal gas internal energy"
   ]
  },
  {
   "cell_type": "code",
   "execution_count": null,
   "metadata": {},
   "outputs": [
    {
     "data": {
      "text/plain": [
       "Traceback (most recent call last):\n",
       "  File \"/home/rwright/.vscode-server/extensions/ms-python.python-2025.0.0-linux-x64/python_files/python_server.py\", line 133, in exec_user_input\n",
       "    retval = callable_(user_input, user_globals)\n",
       "  File \"<string>\", line 43\n",
       "    u_ig =(T*(12000000000000000*E - T_ref**2*(12000000000*A + 6000000*B*T_ref + 4000*C*T_ref**2 + 3*D*T_ref**3 - 12000000000*R)) + T_ref*(-12000000000000000*E + T**2*(12000000000*A + 6000000*B*T + 4000*C*T**2 + 3*D*T**3 - 12000000000*R)))/(12000000000*MW*T*T_ref))\n",
       "                                                                                                                                                                                                                                                                       ^\n",
       "SyntaxError: unmatched ')'\n",
       "\n"
      ]
     },
     "metadata": {},
     "output_type": "display_data"
    }
   ],
   "source": [
    "def solve_cp_ig_polynomial(T):\n",
    "    # Polynomial coefficients\n",
    "    A = 21.62\n",
    "    B = 72.81\n",
    "    C = -57.78  \n",
    "    D = 18.3\n",
    "    E = 0.0\n",
    "\n",
    "    # Apply temperature limits\n",
    "    if 150 < T and T < 310:\n",
    "        T_reduced = T / 1000\n",
    "        cp = (A + B * T_reduced + C * T_reduced**2 + D * T_reduced**3 + E / (T_reduced**2)) / MW  # J/(kg K)\n",
    "        return cp\n",
    "    raise ValueError(\"Temperature outside of function bounds!\")\n",
    "\n",
    "def numerical_integration_cp_poly_ig_enthalpy(T_REF, T):\n",
    "    N = 1000  # Number of intervals for numerical integration\n",
    "    dt = (T - T_REF) / N\n",
    "    integral = 0\n",
    "    for i in range(N):\n",
    "        Ti = T_REF + i * dt\n",
    "        Ti_next = Ti + dt\n",
    "        # Midpoint for integration\n",
    "        integral += solve_cp_ig_polynomial((Ti + Ti_next) / 2) * dt\n",
    "    return integral\n",
    "\n",
    "\n",
    "def analytical_integration_cp_poly_ig_enthalpy(T_REF, T):\n",
    "    # Polynomial coefficients\n",
    "    A = 21.62\n",
    "    B = 72.81\n",
    "    C = -57.78  \n",
    "    D = 18.3\n",
    "    E = 0.0\n",
    "\n",
    "    # Apply temperature limits\n",
    "    if 150 < T and T < 310:\n",
    "        h_ig = (T*(12000000000000000*E - T_REF**2*(12000000000*A + 6000000*B*T_REF + 4000*C*T_REF**2 + 3*D*T_REF**3)) + T_REF*(-12000000000000000*E + T**2*(12000000000*A + 6000000*B*T + 4000*C*T**2 + 3*D*T**3)))/(12000000000*MW*T*T_REF)\n",
    "        return h_ig\n",
    "    raise ValueError(\"Temperature outside of function bounds!\")\n",
    "\n",
    "\"\"\"\n",
    "NOTE: messed up here:\n",
    "def analytical_integration_internal_energy(T_ref, T):\n",
    "        # Polynomial coefficients\n",
    "        A = 21.62\n",
    "        B = 72.81\n",
    "        C = -57.78  \n",
    "        D = 18.3\n",
    "        E = 0.0\n",
    "\n",
    "        u_ig =(T*(12000000000000000*E - T_ref**2*(12000000000*A + 6000000*B*T_ref + 4000*C*T_ref**2 + 3*D*T_ref**3 - 12000000000*R_U)) + T_ref*(-12000000000000000*E + T**2*(12000000000*A + 6000000*B*T + 4000*C*T**2 + 3*D*T**3 - 12000000000*R_U)))/(12000000000*(1000*MW)*T*T_ref)\n",
    "        return u_ig\n",
    "\"\"\"\n",
    "\n",
    "def numerical_integration_cp_poly_ig_int_energy(T_REF, T):\n",
    "    u_ig = numerical_integration_cp_poly_ig_enthalpy(T_REF, T) - R_U*T\n",
    "    return u_ig\n",
    "\n",
    "def analytical_integration_cp_poly_ig_int_energy(T_REF, T):\n",
    "    u_ig = analytical_integration_cp_poly_ig_enthalpy(T_REF, T) - R_U*T\n",
    "    return u_ig\n",
    "\n",
    "\n",
    "\n",
    "temp_arr = [270,272,274,276,278,280,282,284,286,288,290,292,294,296,298,300,302,304,306]\n",
    "h_numerical_arr = []\n",
    "h_analytical_arr = []\n",
    "\n",
    "\n",
    "for T in temp_arr:\n",
    "\n",
    "    h_numerical_arr.append( numerical_integration_cp_poly_ig_int_energy(T_REF, T) )\n",
    "    h_analytical_arr.append( analytical_integration_internal_energy(T_REF, T) )\n",
    "        \n",
    "\n",
    "plt.scatter(temp_arr, h_numerical_arr, label = \"numerical\", color = 'orchid')\n",
    "plt.scatter(temp_arr, h_analytical_arr, label = \"analytical\", color = 'darkslateblue')\n",
    "\n",
    "plt.xlabel('Temp (T)')\n",
    "plt.ylabel('u (J/kg)')\n",
    "plt.title('REAL GAS u vs. Temperature for Check 5.1')\n",
    "plt.legend()\n",
    "plt.grid(True)\n",
    "plt.show()"
   ]
  },
  {
   "cell_type": "code",
   "execution_count": null,
   "metadata": {},
   "outputs": [],
   "source": [
    "# Polynomial coefficients\n",
    "    A = 21.62\n",
    "    B = 72.81\n",
    "    C = -57.78  \n",
    "    D = 18.3\n",
    "    E = 0.0"
   ]
  }
 ],
 "metadata": {
  "language_info": {
   "name": "python"
  }
 },
 "nbformat": 4,
 "nbformat_minor": 2
}
