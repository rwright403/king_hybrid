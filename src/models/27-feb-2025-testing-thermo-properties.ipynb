{
 "cells": [
  {
   "cell_type": "markdown",
   "metadata": {},
   "source": [
    "Accepted values for nitrous oxide properties from NIST CHEMICAL WEBBOOK: https://webbook.nist.gov/cgi/fluid.cgi?T=284&PLow=4.5&PHigh=4.5005&PInc=.0001&Digits=5&ID=C10024972&Action=Load&Type=IsoTherm&TUnit=K&PUnit=MPa&DUnit=kg%2Fm3&HUnit=kJ%2Fmol&WUnit=m%2Fs&VisUnit=uPa*s&STUnit=N%2Fm&RefState=DEF"
   ]
  },
  {
   "cell_type": "code",
   "execution_count": 3,
   "metadata": {},
   "outputs": [
    {
     "name": "stdout",
     "output_type": "stream",
     "text": [
      "imported libraries\n"
     ]
    }
   ],
   "source": [
    "\n",
    "import numpy as np\n",
    "import matplotlib.pyplot as plt\n",
    "from thermo import Chemical\n",
    "from thermo.eos import PR\n",
    "import CoolProp.CoolProp as CP\n",
    "\n",
    "# Global Constants:\n",
    "R_U = 8.31446 #J/(mol K)\n",
    "n2o_g = Chemical('nitrous oxide', T=298.15)\n",
    "PC = n2o_g.Pc\n",
    "TC = n2o_g.Tc\n",
    "OMEGA = n2o_g.omega\n",
    "\n",
    "MW = (n2o_g.MW/1000) #n2o.MW in g/mol --> converted to kg/mol\n",
    "R_GAS_CONST = R_U/MW\n",
    "KAPPA = 0.37464 + 1.5422*n2o_g.omega - 0.26992*n2o_g.omega**2\n",
    "b = 0.07780*(R_U*TC/PC)\n",
    "g = 9.81 #m/s^2\n",
    "\n",
    "P_atm = 101325\n",
    "\n",
    "print(\"imported libraries\")"
   ]
  },
  {
   "cell_type": "markdown",
   "metadata": {},
   "source": [
    "Check 1: Compare cp ideal gas properties between Chemical and [7] Glenn Polynomial"
   ]
  },
  {
   "cell_type": "code",
   "execution_count": null,
   "metadata": {},
   "outputs": [
    {
     "data": {
      "text/plain": [
       "Traceback (most recent call last):\n",
       "  File \"/home/rwright/.vscode-server/extensions/ms-python.python-2025.0.0-linux-x64/python_files/python_server.py\", line 133, in exec_user_input\n",
       "    retval = callable_(user_input, user_globals)\n",
       "  File \"<string>\", line 25, in <module>\n",
       "TypeError: 'list' object is not callable\n",
       "\n"
      ]
     },
     "metadata": {},
     "output_type": "display_data"
    }
   ],
   "source": [
    "def T_sat_polynomial(P):\n",
    "    A = 4.80716087\n",
    "    B = 967.819748\n",
    "    C = 19.6368887\n",
    "\n",
    "    T_sat = B/(A -np.log10( P/100000) ) - C\n",
    "    # Apply temperature limits\n",
    "    if 140 < T and T < 310:\n",
    "        return T_sat\n",
    "    raise ValueError(\"Temperature outside of function bounds!\")\n",
    "\n",
    "P_arr = np.linspace(3.5e6, 5.5e6, 20)\n",
    "poly_t_sat_arr = []\n",
    "cool_tsat_arr = []\n",
    "preos_tsat_arr = []\n",
    "\n",
    "\n",
    "for P in P_arr:\n",
    "\n",
    "    poly_t_sat_arr.append( T_sat_polynomial(P) )\n",
    "    cool_tsat_arr.append( CP.PropsSI('T', 'P', P, 'Q', 0, 'N2O') )\n",
    "    preos_g = PR(Tc=TC, Pc=PC, omega=OMEGA, T=T_REF, P=P)\n",
    "    preos_tsat_arr.append( preos_g.Tsat(P) )\n",
    "\n",
    "\n",
    "\n",
    "plt.scatter(P_arr, poly_t_sat_arr, label = \"polynomial\", color = 'orchid')\n",
    "plt.scatter(P_arr, cool_tsat_arr, label = \"coolprop\", color = 'darkslateblue')\n",
    "plt.scatter(P_arr, preos_tsat_arr, label = \"preos\", color = 'dodgerblue')\n",
    "plt.xlabel('Pressure (Pa)')\n",
    "plt.ylabel('Tsat (K)')\n",
    "plt.title('Saturation Temperature vs Pressure for Check 6.1')\n",
    "plt.legend()\n",
    "plt.grid(True)\n",
    "plt.show()\n",
    "\n",
    "    "
   ]
  },
  {
   "cell_type": "code",
   "execution_count": null,
   "metadata": {},
   "outputs": [],
   "source": [
    "def solve_cp_ig_polynomial(T):\n",
    "    A = 21.62\n",
    "    B = 72.81\n",
    "    C = -57.78\n",
    "    D = 18.3\n",
    "    E = 0.0\n",
    "    if 150<T and T<310:\n",
    "        T_reduced = T/1000\n",
    "\n",
    "        #NOTE: Thesis has this multiplied by a factor of 1000, but I think that is to convert MW because otherwise magnitude seems 1000x too big\n",
    "        cp = (A + B*T_reduced + C*T_reduced**2 + D*T_reduced**3 + E/(T_reduced**2) ) / MW\n",
    "\n",
    "        return cp #J/(kg K)\n",
    "    raise ValueError(\"Temperature outside of function bounds!\")\n",
    "\n",
    "\n",
    "P_arr = np.linspace(270, 305, (305-270) )\n",
    "\n",
    "cp_chemical_arr = []\n",
    "cp_polynomial_arr = []\n",
    "\n",
    "\n",
    "for T in temp_arr:\n",
    "    n2o_ig_for_cp = Chemical('N2O', T=T, P= 4e6) \n",
    "    cp_chemical_arr.append( n2o_ig_for_cp.Cpg )\n",
    "    cp_polynomial_arr.append( solve_cp_ig_polynomial(T) )\n",
    "\n",
    "\n",
    "plt.scatter(temp_arr, cp_chemical_arr, label = \"chemical library\")\n",
    "plt.scatter(temp_arr, cp_polynomial_arr, label = \"ig polynomial\")\n",
    "plt.xlabel('Temp (T)')\n",
    "plt.ylabel('Cp (J/(kg K))')\n",
    "plt.title('IDEAL GAS Cp vs. Temperature for Check 1')\n",
    "plt.legend()\n",
    "plt.grid(True)\n",
    "plt.show()"
   ]
  },
  {
   "cell_type": "markdown",
   "metadata": {},
   "source": [
    "Check 2.1: Compare real gas cp with (ig + PR_ref) to NIST cp\n",
    "- Where NIST cp taken at P = 1 atm from 270K to 305K (entirely vapor phase)"
   ]
  },
  {
   "cell_type": "code",
   "execution_count": null,
   "metadata": {},
   "outputs": [
    {
     "data": {
      "text/plain": [
       "Traceback (most recent call last):\n",
       "  File \"/home/rwright/.vscode-server/extensions/ms-python.python-2025.0.0-linux-x64/python_files/python_server.py\", line 133, in exec_user_input\n",
       "    retval = callable_(user_input, user_globals)\n",
       "  File \"<string>\", line 19, in <module>\n",
       "  File \"/home/rwright/.local/lib/python3.10/site-packages/matplotlib/pyplot.py\", line 527, in show\n",
       "    return _get_backend_mod().show(*args, **kwargs)\n",
       "  File \"/home/rwright/.local/lib/python3.10/site-packages/matplotlib/backend_bases.py\", line 3448, in show\n",
       "    cls.mainloop()\n",
       "  File \"/home/rwright/.local/lib/python3.10/site-packages/matplotlib/backends/backend_qt.py\", line 593, in start_main_loop\n",
       "    with _maybe_allow_interrupt(qapp):\n",
       "  File \"/usr/lib/python3.10/contextlib.py\", line 142, in __exit__\n",
       "    next(self.gen)\n",
       "  File \"/home/rwright/.local/lib/python3.10/site-packages/matplotlib/backends/qt_compat.py\", line 230, in _maybe_allow_interrupt\n",
       "    old_sigint_handler(*handler_args)\n",
       "KeyboardInterrupt\n",
       "\n"
      ]
     },
     "metadata": {},
     "output_type": "display_data"
    }
   ],
   "source": [
    "P_step_2 = 101325 #Pa\n",
    "\n",
    "temp_arr = [270,272,274,276,278,280,282,284,286,288,290,292,294,296,298,300,302,304,306]\n",
    "cp_real_NIST_const_P_arr = [855.6,857.59,859.57,861.55,863.53,865.5,867.46,869.42,871.37,873.32,875.27,877.2,879.13,881.06,882.97,884.88,886.79,888.69,890.58,]\n",
    "cp_solve_arr = []\n",
    "\n",
    "for T in temp_arr:\n",
    "    n2o_ig_step_2= Chemical('N2O', T=T, P= P_atm) \n",
    "    preos_g_step_2 = PR(Tc=TC, Pc=PC, omega=OMEGA, T=T, P=P_step_2)\n",
    "    cp_solve_arr.append( (preos_g_step_2.Cp_dep_g/MW + n2o_ig_step_2.Cpg) )\n",
    "    \n",
    "plt.scatter(temp_arr, cp_real_NIST_const_P_arr, label = \"NIST\", color = 'r')\n",
    "plt.scatter(temp_arr, cp_solve_arr, label = \"ig polynomial + dep\", color = 'g')\n",
    "plt.xlabel('Temp (T)')\n",
    "plt.ylabel('Cp (J/(kg K))')\n",
    "plt.title('REAL GAS Cp vs. Temperature for Check 2.1')\n",
    "plt.legend()\n",
    "plt.grid(True)\n",
    "plt.show()\n"
   ]
  },
  {
   "cell_type": "markdown",
   "metadata": {},
   "source": [
    "Check 2.2: Compare real gas cp with (ig + PR_ref) to NIST cp\n",
    "- Where NIST cp taken at P = 4 MPa from 270K to 305K (partially liq and vapor)\n",
    "changes from liq (T= 283.14 K, cp= 2567.3 J/(kg K)) --> vap (T= 283.14 K, cp= 2133.9 J/(kg K)) \n"
   ]
  },
  {
   "cell_type": "code",
   "execution_count": null,
   "metadata": {},
   "outputs": [
    {
     "data": {
      "text/plain": [
       "for gas property: dep / ig:  (4.688581361526833, 861.8670484555939)\n",
       "for gas property: dep / ig:  (4.688581361526833, 863.9991722006504)\n",
       "for gas property: dep / ig:  (4.688581361526833, 866.1193750750027)\n",
       "for gas property: dep / ig:  (4.688581361526833, 868.2277450891667)\n",
       "for gas property: dep / ig:  (4.688581361526833, 870.3243744944992)\n",
       "for gas property: dep / ig:  (4.688581361526833, 872.4093593309301)\n",
       "for gas property: dep / ig:  (4.688581361526833, 874.4827989997412)\n",
       "for gas property: dep / ig:  (4.688581361526833, 876.5447958604858)\n",
       "for gas property: dep / ig:  (4.688581361526833, 878.5954548511493)\n",
       "for gas property: dep / ig:  (4.688581361526833, 880.634883130656)\n",
       "for gas property: dep / ig:  (4.688581361526833, 882.6631897428528)\n",
       "for gas property: dep / ig:  (4.688581361526833, 884.6804853010901)\n"
      ]
     },
     "metadata": {},
     "output_type": "display_data"
    }
   ],
   "source": [
    "P_step_2 = 4e6 #Pa\n",
    "\n",
    "temp_arr = [270,272,274,276,278,280,282,284,286,288,290,292,294,296,298,300,302,304,306]\n",
    "cp_real_NIST_const_P_arr = [2153.2,2193.2,2238.6,2290.7,2351.3,2423,2509.5,2065.4,1933,1827.8,1742.1,1670.9,1610.8,1559.4,1515,1476.3,1442.2,1412.1,1385.2]\n",
    "\n",
    "cp_solve_g_arr = []\n",
    "cp_solve_l_arr = []\n",
    "T_g_arr = []\n",
    "T_l_arr = []\n",
    "\n",
    "T_transition = 283.14\n",
    "\n",
    "\n",
    "for T in temp_arr:\n",
    "    n2o_ig_step_2= Chemical('N2O', T=T, P= P_step_2) \n",
    "    preos_step_2 = PR(Tc=TC, Pc=PC, omega=OMEGA, T=T, P=P_step_2)\n",
    "    \n",
    "\n",
    "    if T > T_transition:\n",
    "        cp_solve_g_arr.append( (preos_g_step_2.Cp_dep_g/MW + n2o_ig_step_2.Cpg) )\n",
    "\n",
    "        print(\"for gas property: dep / ig: \", (preos_g_step_2.Cp_dep_g/MW, n2o_ig_step_2.Cpg))\n",
    "        T_g_arr.append(T)\n",
    "\n",
    "    else: \n",
    "        cp_solve_l_arr.append( (preos_step_2.Cp_dep_l/MW + n2o_ig_step_2.Cpg) )\n",
    "        T_l_arr.append(T)\n",
    "    \n",
    "plt.scatter(temp_arr, cp_real_NIST_const_P_arr, label = \"NIST\", color = 'r')\n",
    "plt.scatter(T_g_arr, cp_solve_g_arr, label = \"ig polynomial + dep gas\", color = 'orchid')\n",
    "plt.scatter(T_l_arr, cp_solve_l_arr, label = \"ig polynomial + dep liquid\", color = 'darkslateblue')\n",
    "\n",
    "plt.axvline(T_transition)\n",
    "plt.xlabel('Temp (T)')\n",
    "plt.ylabel('Cp (J/(kg K))')\n",
    "plt.title('REAL GAS Cp vs. Temperature for Check 2.2')\n",
    "plt.legend()\n",
    "plt.grid(True)\n",
    "plt.show()"
   ]
  },
  {
   "cell_type": "markdown",
   "metadata": {},
   "source": [
    "Check 3.1: Compare cv ideal gas properties between Chemical and [7] Glenn Polynomial\n",
    "(note for ideal gas Cp - Cv = R_GAS_Const )"
   ]
  },
  {
   "cell_type": "code",
   "execution_count": null,
   "metadata": {},
   "outputs": [
    {
     "data": {
      "text/plain": [
       "Traceback (most recent call last):\n",
       "  File \"/home/rwright/.vscode-server/extensions/ms-python.python-2025.0.0-linux-x64/python_files/python_server.py\", line 133, in exec_user_input\n",
       "    retval = callable_(user_input, user_globals)\n",
       "  File \"<string>\", line 29, in <module>\n",
       "  File \"/home/rwright/.local/lib/python3.10/site-packages/matplotlib/pyplot.py\", line 3684, in scatter\n",
       "    __ret = gca().scatter(\n",
       "  File \"/home/rwright/.local/lib/python3.10/site-packages/matplotlib/__init__.py\", line 1465, in inner\n",
       "    return func(ax, *map(sanitize_sequence, args), **kwargs)\n",
       "  File \"/home/rwright/.local/lib/python3.10/site-packages/matplotlib/axes/_axes.py\", line 4652, in scatter\n",
       "    raise ValueError(\"x and y must be the same size\")\n",
       "ValueError: x and y must be the same size\n",
       "\n"
      ]
     },
     "metadata": {},
     "output_type": "display_data"
    }
   ],
   "source": [
    "def solve_cv_ig_polynomial(T):\n",
    "    A = 21.62\n",
    "    B = 72.81\n",
    "    C = -57.78\n",
    "    D = 18.3\n",
    "    E = 0.0\n",
    "    if 150<T and T<310:\n",
    "        T_reduced = T/1000\n",
    "\n",
    "        #NOTE: Thesis has this multiplied by a factor of 1000, but I think that is to convert MW because otherwise magnitude seems 1000x too big\n",
    "        cp = (A + B*T_reduced + C*T_reduced**2 + D*T_reduced**3 + E/(T_reduced**2) ) / MW\n",
    "        cv = cp - R_GAS_CONST\n",
    "        return cv #J/(kg K)\n",
    "    raise ValueError(\"Temperature outside of function bounds!\")\n",
    "\n",
    "\n",
    "temp_arr = np.linspace(270, 305, (305-270) )\n",
    "\n",
    "cv_chemical_arr = []\n",
    "cv_polynomial_arr = []\n",
    "\n",
    "\n",
    "for T in temp_arr:\n",
    "    n2o_ig_for_cv = Chemical('N2O', T=T, P= 4e6) \n",
    "    cv_chemical_arr.append( n2o_ig_for_cv.Cvg )\n",
    "    cv_polynomial_arr.append( solve_cv_ig_polynomial(T) )\n",
    "\n",
    "\n",
    "plt.scatter(temp_arr, cv_chemical_arr, label = \"chemical library\")\n",
    "plt.scatter(temp_arr, cv_polynomial_arr, label = \"ig polynomial\")\n",
    "plt.xlabel('Temp (T)')\n",
    "plt.ylabel('Cv (J/(kg K))')\n",
    "plt.title('IDEAL GAS Cv vs. Temperature for Check 3')\n",
    "plt.legend()\n",
    "plt.grid(True)\n",
    "plt.show()"
   ]
  },
  {
   "cell_type": "markdown",
   "metadata": {},
   "source": [
    "Check 3.2: Compare real gas cv with (ig + PR_ref) to NIST cv\n",
    "- Where NIST cv taken at P = 4 MPa from 270K to 305K (partially liq and vapor)\n",
    "changes from liq (T= 283.14 K, cv= 916.95 J/(kg K)) --> vap (T= 283.14 K, cv= 923.2 J/(kg K)) "
   ]
  },
  {
   "cell_type": "code",
   "execution_count": null,
   "metadata": {},
   "outputs": [],
   "source": [
    "P_step_2 = P_atm #Pa\n",
    "\n",
    "temp_arr = [270,272,274,276,278,280,282,284,286,288,290,292,294,296,298,300,302,304,306]\n",
    "cv_real_NIST_const_P_arr = [909.36,909.82,910.45,911.3,912.4,913.83,915.67,914.02,895.29,879.49,866.05,854.53,844.6,836.01,828.56,822.08,816.42,811.49,807.19,]\n",
    "\n",
    "cv_solve_g_arr = []\n",
    "cv_solve_l_arr = []\n",
    "T_g_arr = []\n",
    "T_l_arr = []\n",
    "\n",
    "T_transition = 283.14\n",
    "\n",
    "\n",
    "for T in temp_arr:\n",
    "    n2o_ig_step_2= Chemical('N2O', T=T, P= P_step_2) \n",
    "    preos_step_2 = PR(Tc=TC, Pc=PC, omega=OMEGA, T=T, P=P_step_2)\n",
    "    \n",
    "\n",
    "    if T > T_transition:\n",
    "        cv_solve_g_arr.append( (preos_g_step_2.Cv_dep_g/MW + n2o_ig_step_2.Cvg) )\n",
    "\n",
    "        #print(\"for gas property: dep / ig: \", (preos_g_step_2.Cv_dep_g/MW, n2o_ig_step_2.Cvg))\n",
    "        T_g_arr.append(T)\n",
    "\n",
    "    else: \n",
    "        cv_solve_l_arr.append( (preos_step_2.Cv_dep_l/MW + n2o_ig_step_2.Cvg) )\n",
    "        T_l_arr.append(T)\n",
    "    \n",
    "plt.scatter(temp_arr, cv_real_NIST_const_P_arr, label = \"NIST\", color = 'r')\n",
    "plt.scatter(T_g_arr, cv_solve_g_arr, label = \"ig polynomial + dep gas\", color = 'orchid')\n",
    "plt.scatter(T_l_arr, cv_solve_l_arr, label = \"ig polynomial + dep liquid\", color = 'darkslateblue')\n",
    "\n",
    "plt.axvline(T_transition)\n",
    "plt.xlabel('Temp (T)')\n",
    "plt.ylabel('Cv (J/(kg K))')\n",
    "plt.title('REAL GAS Cv vs. Temperature for Check 2.2')\n",
    "plt.legend()\n",
    "plt.grid(True)\n",
    "plt.show()"
   ]
  },
  {
   "cell_type": "markdown",
   "metadata": {},
   "source": [
    "Check 4.1: Want to compare Chemical ideal gas enthalpy --> need to integrate cp polynomial to solve ideal gas enthalpy!"
   ]
  },
  {
   "cell_type": "markdown",
   "metadata": {},
   "source": [
    "NOTE: CHEMICAL LIB USES T = 298.15 K, P = 101325 Pa AS REF STATE!"
   ]
  },
  {
   "cell_type": "markdown",
   "metadata": {},
   "source": [
    "NOTE: IT SEEMS LIKE THE \"IDEAL GAS ENTHALPY\" FROM THE CHEMICAL LIB IS SENSITIVE TO CHANGES IN INPUT PRESSURE, AND DOES NOT SEEM TO REFLECT IDEAL GAS ENTHALPY!\n",
    "THIS IS LIKELY A MISUSE, I SHOULD LIKELY USE THE POLYNOMIALS FOR IDEAL GAS!!!"
   ]
  },
  {
   "cell_type": "code",
   "execution_count": null,
   "metadata": {},
   "outputs": [
    {
     "data": {
      "text/plain": [
       "Traceback (most recent call last):\n",
       "  File \"/home/rwright/.vscode-server/extensions/ms-python.python-2025.0.0-linux-x64/python_files/python_server.py\", line 133, in exec_user_input\n",
       "    retval = callable_(user_input, user_globals)\n",
       "  File \"<string>\", line 49, in <module>\n",
       "  File \"/home/rwright/.local/lib/python3.10/site-packages/matplotlib/pyplot.py\", line 527, in show\n",
       "    return _get_backend_mod().show(*args, **kwargs)\n",
       "  File \"/home/rwright/.local/lib/python3.10/site-packages/matplotlib/backend_bases.py\", line 3448, in show\n",
       "    cls.mainloop()\n",
       "  File \"/home/rwright/.local/lib/python3.10/site-packages/matplotlib/backends/backend_qt.py\", line 593, in start_main_loop\n",
       "    with _maybe_allow_interrupt(qapp):\n",
       "  File \"/usr/lib/python3.10/contextlib.py\", line 142, in __exit__\n",
       "    next(self.gen)\n",
       "  File \"/home/rwright/.local/lib/python3.10/site-packages/matplotlib/backends/qt_compat.py\", line 230, in _maybe_allow_interrupt\n",
       "    old_sigint_handler(*handler_args)\n",
       "KeyboardInterrupt\n",
       "\n"
      ]
     },
     "metadata": {},
     "output_type": "display_data"
    }
   ],
   "source": [
    "def solve_cp_ig_polynomial(T):\n",
    "    # Polynomial coefficients\n",
    "    A = 21.62\n",
    "    B = 72.81\n",
    "    C = -57.78  \n",
    "    D = 18.3\n",
    "    E = 0.0\n",
    "\n",
    "    # Apply temperature limits\n",
    "    if 150 < T and T < 310:\n",
    "        T_reduced = T / 1000\n",
    "        cp = (A + B * T_reduced + C * T_reduced**2 + D * T_reduced**3 + E / (T_reduced**2)) / MW  # J/(kg K)\n",
    "        return cp\n",
    "    raise ValueError(\"Temperature outside of function bounds!\")\n",
    "\n",
    "def integrate_polynomial_ig_enthalpy(T_REF, T):\n",
    "    N = 1000  # Number of intervals for numerical integration\n",
    "    dt = (T - T_REF) / N\n",
    "    integral = 0\n",
    "    for i in range(N):\n",
    "        Ti = T_REF + i * dt\n",
    "        Ti_next = Ti + dt\n",
    "        # Midpoint for integration\n",
    "        integral += solve_cp_ig_polynomial((Ti + Ti_next) / 2) * dt\n",
    "    return integral\n",
    "\n",
    "\n",
    "T_REF = 298.15  # Reference temperature (K)\n",
    "\n",
    "\n",
    "\n",
    "temp_arr = [270,272,274,276,278,280,282,284,286,288,290,292,294,296,298,300,302,304,306]\n",
    "polynomial_trapezoid_ig_enthalpy =[]\n",
    "chemical_lib_ig_enthalpy = []\n",
    "\n",
    "for T in temp_arr:\n",
    "    n2o_ig_check_4 = Chemical('N2O', T=T, P= 4e6) \n",
    "    chemical_lib_ig_enthalpy.append( n2o_ig_check_4.H )\n",
    "    polynomial_trapezoid_ig_enthalpy.append( integrate_polynomial_ig_enthalpy(T_REF, T) )\n",
    "\n",
    "\n",
    "plt.scatter(temp_arr, chemical_lib_ig_enthalpy, label = \"chemical library\")\n",
    "plt.scatter(temp_arr, polynomial_trapezoid_ig_enthalpy, label = \"ig polynomial\")\n",
    "plt.xlabel('Temp (T)')\n",
    "plt.ylabel('h (J/kg)')\n",
    "plt.title('IDEAL GAS Enthalpy vs. Temperature for Check 4')\n",
    "plt.legend()\n",
    "plt.grid(True)\n",
    "plt.show()\n",
    "\n",
    "\n"
   ]
  },
  {
   "cell_type": "markdown",
   "metadata": {},
   "source": [
    "Check 4.2: Want to compare REAL FLUID ENTHALPY, so using ideal gas enthalpy + PR EOS departure enthalpy and comparing to NIST VALUES!!!\n",
    "- Where NIST cv taken at P = 4 MPa from 270K to 305K (partially liq and vapor)\n",
    "changes from liq (T= 283.14 K, h= 188.57 kJ/kg) --> vap (T= 283.14 K, h= 393.50 kJ/kg) "
   ]
  },
  {
   "cell_type": "markdown",
   "metadata": {},
   "source": [
    "NOTE: NIST ENTHALPY CONVENTION IS THE NORMAL BOILING POINT:\n",
    "\n",
    "T_boiling = 182.5K for nitrous oxide"
   ]
  },
  {
   "cell_type": "markdown",
   "metadata": {},
   "source": [
    "NOTE: IT SEEMS LIKE THE \"IDEAL GAS ENTHALPY\" FROM THE CHEMICAL LIB IS SENSITIVE TO CHANGES IN INPUT PRESSURE, AND DOES NOT SEEM TO REFLECT IDEAL GAS ENTHALPY!\n",
    "THIS IS LIKELY A MISUSE, I SHOULD LIKELY USE THE POLYNOMIALS FOR IDEAL GAS!!!"
   ]
  },
  {
   "cell_type": "code",
   "execution_count": null,
   "metadata": {},
   "outputs": [
    {
     "data": {
      "text/plain": [
       "debugging liquid:  l/g -128195.57870544895 -284664.137819932 -313717.63898502185 137785.43557807023\n",
       "debugging liquid:  l/g -121802.3442794091 -281620.8075804095 -310367.73479850445 137785.43557807023\n",
       "debugging liquid:  l/g -115483.11244786013 -278437.6390005773 -307231.67154678766 137785.43557807023\n",
       "debugging liquid:  l/g -109364.35325378884 -275093.3798500967 -304457.17150319705 137785.43557807023\n",
       "debugging liquid:  l/g -103727.03186670906 -271560.9723992943 -302352.25756691967 137785.43557807023\n",
       "debugging liquid:  l/g -99373.88829888514 -267805.0606798535 -301755.0257185365 137785.43557807023\n",
       "debugging liquid:  l/g -103284.39129463193 -263777.92870423436 -309692.6606899024 137785.43557807023\n",
       "debugging gas:  l/g 344924.9784084738 -56966.373369107336 -68294.84632192377 470186.19809950487\n",
       "debugging gas:  l/g 349591.4344787699 -55496.07944123961 -65098.68417949534 470186.19809950487\n",
       "debugging gas:  l/g 354033.8269442221 -54139.94347195849 -62012.42768332425 470186.19809950487\n",
       "debugging gas:  l/g 358287.40630688367 -52880.32833299894 -59018.46345962228 470186.19809950487\n",
       "debugging gas:  l/g 362379.4310117987 -51703.5930147702 -56103.17407293597 470186.19809950487\n",
       "debugging gas:  l/g 366331.47399286367 -50598.93935743766 -53255.78474920357 470186.19809950487\n",
       "debugging gas:  g 370160.94081656705 -49557.652982625834 -50467.60430031196 470186.19809950487\n",
       "debugging gas:  g 373882.1051782154 -48572.58554846326 -47731.507372826156 470186.19809950487\n",
       "debugging gas:  g 377506.836664433 -47637.79087109916 -45041.57056397273 470186.19809950487\n",
       "debugging gas:  g 381045.12545841746 -46748.26257447327 -42392.810066614154 470186.19809950487\n",
       "debugging gas:  g 384505.46906793327 -45899.74072837046 -39780.988303201106 470186.19809950487\n",
       "debugging gas:  g 387895.1628852299 -45088.566570187286 -37202.46864408766 470186.19809950487\n"
      ]
     },
     "metadata": {},
     "output_type": "display_data"
    }
   ],
   "source": [
    "P_step_4 = 4e6 #Pa\n",
    "\n",
    "NIST_enthalpy_arr = [158030.0, 162380.0, 166810.0, 171340.0, 175980.0, 180750.0, 185680.0, 395310.0, 399300.0, 403060.0, 406630.0, 410040.0, 413320.0, 416490.0, 419560.0, 422550.0, 425470.0, 428320.0, 431120.0]\n",
    "\n",
    "temp_arr = [270,272,274,276,278,280,282,284,286,288,290,292,294,296,298,300,302,304,306]\n",
    "\n",
    "ig_dep_enthalpy_l_arr =[]\n",
    "ig_dep_enthalpy_g_arr =[]\n",
    "\n",
    "T_g_arr = []\n",
    "T_l_arr = []\n",
    "\n",
    "T_BOIL = 182.5\n",
    "\n",
    "T_transition = 283.14\n",
    "n2o_ig_ref= Chemical('N2O', T=T_BOIL, P= P_atm) \n",
    "n2o_ref_convers = n2o_ig_ref.H\n",
    "\n",
    "\n",
    "for T in temp_arr:\n",
    "    n2o_ig_step_4= Chemical('N2O', T=T, P= P_step_4) \n",
    "    preos_step_4 = PR(Tc=TC, Pc=PC, omega=OMEGA, T=T, P=P_step_4)\n",
    "    \n",
    "\n",
    "    if T > T_transition:\n",
    "        ig_dep_enthalpy_g_arr.append( (preos_step_4.H_dep_g/MW + n2o_ig_step_4.H - n2o_ref_convers) )\n",
    "        T_g_arr.append(T)\n",
    "        print( \"debugging gas: \", preos_step_4.phase, (preos_step_4.H_dep_g/MW + n2o_ig_step_4.H - n2o_ref_convers), preos_step_4.H_dep_g/MW , n2o_ig_step_4.H, - n2o_ref_convers)\n",
    "\n",
    "    else: \n",
    "        #ig_dep_enthalpy_l_arr.append( (preos_step_4.h_dep_l/MW + n2o_ig_step_4.H) )\n",
    "        ig_dep_enthalpy_l_arr.append( (preos_step_4.H_dep_l/MW + n2o_ig_step_4.H + preos_step_4.Hvap(T_REF)/MW) )\n",
    "        T_l_arr.append(T)\n",
    "        print( \"debugging liquid: \", preos_step_4.phase, (preos_step_4.H_dep_l/MW + n2o_ig_step_4.H - n2o_ref_convers), preos_step_4.H_dep_l/MW , n2o_ig_step_4.H, preos_step_4.Hvap(T_REF)/MW) \n",
    "    \n",
    "plt.scatter(temp_arr, NIST_enthalpy_arr, label = \"NIST\", color = 'r')\n",
    "plt.scatter(T_g_arr, ig_dep_enthalpy_g_arr, label = \"ig polynomial + dep gas\", color = 'orchid')\n",
    "plt.scatter(T_l_arr, ig_dep_enthalpy_l_arr, label = \"ig polynomial + dep liquid\", color = 'darkslateblue')\n",
    "\n",
    "plt.axvline(T_transition)\n",
    "plt.xlabel('Temp (T)')\n",
    "plt.ylabel('h (J/kg)')\n",
    "plt.title('REAL GAS h vs. Temperature for Check 2.2')\n",
    "plt.legend()\n",
    "plt.grid(True)\n",
    "plt.show()"
   ]
  },
  {
   "cell_type": "markdown",
   "metadata": {},
   "source": [
    "Check 4.3: Compare numerical vs analytical integration for enthalpy"
   ]
  },
  {
   "cell_type": "code",
   "execution_count": null,
   "metadata": {},
   "outputs": [
    {
     "data": {
      "text/plain": [
       "Traceback (most recent call last):\n",
       "  File \"/home/rwright/.vscode-server/extensions/ms-python.python-2025.0.0-linux-x64/python_files/python_server.py\", line 133, in exec_user_input\n",
       "    retval = callable_(user_input, user_globals)\n",
       "  File \"<string>\", line 61, in <module>\n",
       "  File \"/home/rwright/.local/lib/python3.10/site-packages/matplotlib/pyplot.py\", line 527, in show\n",
       "    return _get_backend_mod().show(*args, **kwargs)\n",
       "  File \"/home/rwright/.local/lib/python3.10/site-packages/matplotlib/backend_bases.py\", line 3448, in show\n",
       "    cls.mainloop()\n",
       "  File \"/home/rwright/.local/lib/python3.10/site-packages/matplotlib/backends/backend_qt.py\", line 593, in start_main_loop\n",
       "    with _maybe_allow_interrupt(qapp):\n",
       "  File \"/usr/lib/python3.10/contextlib.py\", line 142, in __exit__\n",
       "    next(self.gen)\n",
       "  File \"/home/rwright/.local/lib/python3.10/site-packages/matplotlib/backends/qt_compat.py\", line 230, in _maybe_allow_interrupt\n",
       "    old_sigint_handler(*handler_args)\n",
       "KeyboardInterrupt\n",
       "\n"
      ]
     },
     "metadata": {},
     "output_type": "display_data"
    }
   ],
   "source": [
    "def solve_cp_ig_polynomial(T):\n",
    "    # Polynomial coefficients\n",
    "    A = 21.62\n",
    "    B = 72.81\n",
    "    C = -57.78  \n",
    "    D = 18.3\n",
    "    E = 0.0\n",
    "\n",
    "    # Apply temperature limits\n",
    "    if 150 < T and T < 310:\n",
    "        T_reduced = T / 1000\n",
    "        cp = (A + B * T_reduced + C * T_reduced**2 + D * T_reduced**3 + E / (T_reduced**2)) / MW  # J/(kg K) - from [7] but modified because my MW in terms of kg not g\n",
    "        return cp\n",
    "    raise ValueError(\"Temperature outside of function bounds!\")\n",
    "\n",
    "def numerical_integration_cp_poly_ig_enthalpy(T_REF, T):\n",
    "    N = 1000  # Number of intervals for numerical integration\n",
    "    dt = (T - T_REF) / N\n",
    "    integral = 0\n",
    "    for i in range(N):\n",
    "        Ti = T_REF + i * dt\n",
    "        Ti_next = Ti + dt\n",
    "        # Midpoint for integration\n",
    "        integral += solve_cp_ig_polynomial((Ti + Ti_next) / 2) * dt\n",
    "    return integral\n",
    "\n",
    "\n",
    "def analytical_integration_cp_poly_ig_enthalpy(T_REF, T):\n",
    "    # Polynomial coefficients\n",
    "    A = 21.62\n",
    "    B = 72.81\n",
    "    C = -57.78  \n",
    "    D = 18.3\n",
    "    E = 0.0\n",
    "\n",
    "    # Apply temperature limits\n",
    "    if 150 < T and T < 310:\n",
    "        h = (T*( (12E16)*E - T_REF**2*( (12E10)*A + (6E6)*B*T_REF + (4E3)*C*T_REF**2 + 3*D*T_REF**3)) + T_REF*(-(12E16)*E + T**2*( (12E10)*A + (6E6)*B*T + (4E3)*C*T**2 + 3*D*T**3)))/( (12E10)*MW*T*T_REF)\n",
    "        h = (T*(12000000000000000*E - T_REF**2*(12000000000*A + 6000000*B*T_REF + 4000*C*T_REF**2 + 3*D*T_REF**3)) + T_REF*(-12000000000000000*E + T**2*(12000000000*A + 6000000*B*T + 4000*C*T**2 + 3*D*T**3)))/(12000000000*MW*T*T_REF)\n",
    "        return h\n",
    "    raise ValueError(\"Temperature outside of function bounds!\")\n",
    "\n",
    "temp_arr = [270,272,274,276,278,280,282,284,286,288,290,292,294,296,298,300,302,304,306]\n",
    "h_numerical_arr = []\n",
    "h_analytical_arr = []\n",
    "\n",
    "\n",
    "for T in temp_arr:\n",
    "\n",
    "    h_numerical_arr.append( numerical_integration_cp_poly_ig_enthalpy(T_REF, T) )\n",
    "    h_analytical_arr.append( analytical_integration_cp_poly_ig_enthalpy(T_REF, T) )\n",
    "        \n",
    "\n",
    "plt.scatter(temp_arr, h_numerical_arr, label = \"numerical\", color = 'orchid')\n",
    "plt.scatter(temp_arr, h_analytical_arr, label = \"analytical\", color = 'darkslateblue')\n",
    "\n",
    "plt.xlabel('Temp (T)')\n",
    "plt.ylabel('h (J/kg)')\n",
    "plt.title('REAL GAS h vs. Temperature for Check 2.2')\n",
    "plt.legend()\n",
    "plt.grid(True)\n",
    "plt.show()\n",
    "\n"
   ]
  },
  {
   "cell_type": "markdown",
   "metadata": {},
   "source": [
    "ANALYTICAL ENTHALPY MATCHES NUMERICAL ENTHALPY"
   ]
  },
  {
   "cell_type": "markdown",
   "metadata": {},
   "source": [
    "Check 5.1: matching numerical and analytical ideal gas internal energy"
   ]
  },
  {
   "cell_type": "code",
   "execution_count": null,
   "metadata": {},
   "outputs": [
    {
     "data": {
      "text/plain": [
       "Traceback (most recent call last):\n",
       "  File \"/home/rwright/.vscode-server/extensions/ms-python.python-2025.0.0-linux-x64/python_files/python_server.py\", line 133, in exec_user_input\n",
       "    retval = callable_(user_input, user_globals)\n",
       "  File \"<string>\", line 43\n",
       "    u_ig =(T*(12000000000000000*E - T_ref**2*(12000000000*A + 6000000*B*T_ref + 4000*C*T_ref**2 + 3*D*T_ref**3 - 12000000000*R)) + T_ref*(-12000000000000000*E + T**2*(12000000000*A + 6000000*B*T + 4000*C*T**2 + 3*D*T**3 - 12000000000*R)))/(12000000000*MW*T*T_ref))\n",
       "                                                                                                                                                                                                                                                                       ^\n",
       "SyntaxError: unmatched ')'\n",
       "\n"
      ]
     },
     "metadata": {},
     "output_type": "display_data"
    }
   ],
   "source": [
    "def solve_cp_ig_polynomial(T):\n",
    "    # Polynomial coefficients\n",
    "    A = 21.62\n",
    "    B = 72.81\n",
    "    C = -57.78  \n",
    "    D = 18.3\n",
    "    E = 0.0\n",
    "\n",
    "    # Apply temperature limits\n",
    "    if 150 < T and T < 310:\n",
    "        T_reduced = T / 1000\n",
    "        cp = (A + B * T_reduced + C * T_reduced**2 + D * T_reduced**3 + E / (T_reduced**2)) / MW  # J/(kg K)\n",
    "        return cp\n",
    "    raise ValueError(\"Temperature outside of function bounds!\")\n",
    "\n",
    "def numerical_integration_cp_poly_ig_enthalpy(T_REF, T):\n",
    "    N = 1000  # Number of intervals for numerical integration\n",
    "    dt = (T - T_REF) / N\n",
    "    integral = 0\n",
    "    for i in range(N):\n",
    "        Ti = T_REF + i * dt\n",
    "        Ti_next = Ti + dt\n",
    "        # Midpoint for integration\n",
    "        integral += solve_cp_ig_polynomial((Ti + Ti_next) / 2) * dt\n",
    "    return integral\n",
    "\n",
    "\n",
    "def analytical_integration_cp_poly_ig_enthalpy(T_REF, T):\n",
    "    # Polynomial coefficients\n",
    "    A = 21.62\n",
    "    B = 72.81\n",
    "    C = -57.78  \n",
    "    D = 18.3\n",
    "    E = 0.0\n",
    "\n",
    "    # Apply temperature limits\n",
    "    if 150 < T and T < 310:\n",
    "        h_ig = (T*(12000000000000000*E - T_REF**2*(12000000000*A + 6000000*B*T_REF + 4000*C*T_REF**2 + 3*D*T_REF**3)) + T_REF*(-12000000000000000*E + T**2*(12000000000*A + 6000000*B*T + 4000*C*T**2 + 3*D*T**3)))/(12000000000*MW*T*T_REF)\n",
    "        return h_ig\n",
    "    raise ValueError(\"Temperature outside of function bounds!\")\n",
    "\n",
    "\"\"\"\n",
    "NOTE: messed up here:\n",
    "def analytical_integration_internal_energy(T_ref, T):\n",
    "        # Polynomial coefficients\n",
    "        A = 21.62\n",
    "        B = 72.81\n",
    "        C = -57.78  \n",
    "        D = 18.3\n",
    "        E = 0.0\n",
    "\n",
    "        u_ig =(T*(12000000000000000*E - T_ref**2*(12000000000*A + 6000000*B*T_ref + 4000*C*T_ref**2 + 3*D*T_ref**3 - 12000000000*R_U)) + T_ref*(-12000000000000000*E + T**2*(12000000000*A + 6000000*B*T + 4000*C*T**2 + 3*D*T**3 - 12000000000*R_U)))/(12000000000*(1000*MW)*T*T_ref)\n",
    "        return u_ig\n",
    "\"\"\"\n",
    "\n",
    "def numerical_integration_cp_poly_ig_int_energy(T_REF, T):\n",
    "    u_ig = numerical_integration_cp_poly_ig_enthalpy(T_REF, T) - R_U*T\n",
    "    return u_ig\n",
    "\n",
    "def analytical_integration_cp_poly_ig_int_energy(T_REF, T):\n",
    "    u_ig = analytical_integration_cp_poly_ig_enthalpy(T_REF, T) - R_U*T\n",
    "    return u_ig\n",
    "\n",
    "\n",
    "\n",
    "temp_arr = [270,272,274,276,278,280,282,284,286,288,290,292,294,296,298,300,302,304,306]\n",
    "h_numerical_arr = []\n",
    "h_analytical_arr = []\n",
    "\n",
    "\n",
    "for T in temp_arr:\n",
    "\n",
    "    h_numerical_arr.append( numerical_integration_cp_poly_ig_int_energy(T_REF, T) )\n",
    "    h_analytical_arr.append( analytical_integration_internal_energy(T_REF, T) )\n",
    "        \n",
    "\n",
    "plt.scatter(temp_arr, h_numerical_arr, label = \"numerical\", color = 'orchid')\n",
    "plt.scatter(temp_arr, h_analytical_arr, label = \"analytical\", color = 'darkslateblue')\n",
    "\n",
    "plt.xlabel('Temp (T)')\n",
    "plt.ylabel('u (J/kg)')\n",
    "plt.title('REAL GAS u vs. Temperature for Check 5.1')\n",
    "plt.legend()\n",
    "plt.grid(True)\n",
    "plt.show()"
   ]
  },
  {
   "cell_type": "markdown",
   "metadata": {},
   "source": [
    "Check 6.1: Comparing T_sat between preos library obj and polynomial!"
   ]
  },
  {
   "cell_type": "code",
   "execution_count": null,
   "metadata": {},
   "outputs": [
    {
     "data": {
      "text/plain": [
       "Traceback (most recent call last):\n",
       "  File \"/home/rwright/.vscode-server/extensions/ms-python.python-2025.0.0-linux-x64/python_files/python_server.py\", line 133, in exec_user_input\n",
       "    retval = callable_(user_input, user_globals)\n",
       "  File \"<string>\", line 25, in <module>\n",
       "TypeError: 'list' object is not callable\n",
       "\n"
      ]
     },
     "metadata": {},
     "output_type": "display_data"
    }
   ],
   "source": [
    "def T_sat_polynomial(P):\n",
    "    A = 4.80716087\n",
    "    B = 967.819748\n",
    "    C = 19.6368887\n",
    "\n",
    "    T_sat = B/(A -np.log10( P/100000) ) - C\n",
    "    # Apply temperature limits\n",
    "    if 140 < T and T < 310:\n",
    "        return T_sat\n",
    "    raise ValueError(\"Temperature outside of function bounds!\")\n",
    "\n",
    "P_arr = np.linspace(3.5e6, 5.5e6, 20)\n",
    "poly_t_sat_arr = []\n",
    "cool_tsat_arr = []\n",
    "preos_tsat_arr = []\n",
    "\n",
    "\n",
    "for P in P_arr:\n",
    "\n",
    "    poly_t_sat_arr.append( T_sat_polynomial(P) )\n",
    "    cool_tsat_arr.append( CP.PropsSI('T', 'P', P, 'Q', 0, 'N2O') )\n",
    "    preos_g = PR(Tc=TC, Pc=PC, omega=OMEGA, T=T_REF, P=P)\n",
    "    preos_tsat_arr.append( preos_g.Tsat(P) )\n",
    "\n",
    "\n",
    "\n",
    "plt.scatter(P_arr, poly_t_sat_arr, label = \"polynomial\", color = 'orchid')\n",
    "plt.scatter(P_arr, cool_tsat_arr, label = \"coolprop\", color = 'darkslateblue')\n",
    "plt.scatter(P_arr, preos_tsat_arr, label = \"preos\", color = 'dodgerblue')\n",
    "plt.xlabel('Pressure (Pa)')\n",
    "plt.ylabel('Tsat (K)')\n",
    "plt.title('Saturation Temperature vs Pressure for Check 6.1')\n",
    "plt.legend()\n",
    "plt.grid(True)\n",
    "plt.show()\n",
    "\n",
    "    "
   ]
  },
  {
   "cell_type": "markdown",
   "metadata": {},
   "source": [
    "Check 7.1 --> du/drho|T for liquid: "
   ]
  },
  {
   "cell_type": "code",
   "execution_count": 4,
   "metadata": {},
   "outputs": [
    {
     "name": "stdout",
     "output_type": "stream",
     "text": [
      "pressures check:  5858374.933844492 5858362.658078641\n",
      "0.001173588966056219\n",
      "numerical derivative vs central differences function for script vs my analytical derivative implementation:  -200.73197146794158 -200.73197437832462 54.81001178166045\n"
     ]
    }
   ],
   "source": [
    "def analytical_integration_cp_poly_ig_enthalpy(T_REF, T):\n",
    "    # Polynomial coefficients\n",
    "    A = 21.62\n",
    "    B = 72.81\n",
    "    C = -57.78  \n",
    "    D = 18.3\n",
    "    E = 0.0\n",
    "\n",
    "    # Apply temperature limits\n",
    "    if 150 < T and T < 310:\n",
    "        h_ig = (T*(12000000000000000*E - T_REF**2*(12000000000*A + 6000000*B*T_REF + 4000*C*T_REF**2 + 3*D*T_REF**3)) + T_REF*(-12000000000000000*E + T**2*(12000000000*A + 6000000*B*T + 4000*C*T**2 + 3*D*T**3)))/(12000000000*MW*T*T_REF)\n",
    "        return h_ig\n",
    "    raise ValueError(\"Temperature outside of function bounds!\")\n",
    "\n",
    "\n",
    "def analytical_integration_cp_poly_ig_int_energy(T_REF, T):\n",
    "    u_ig = analytical_integration_cp_poly_ig_enthalpy(T_REF, T) - R_U*T\n",
    "    return u_ig\n",
    "\n",
    "\n",
    "def solve_du_drho_const_T_liq(rho,T,P):\n",
    "\n",
    "    vm = 1/rho #multiply by MW when using SI\n",
    "    print(vm)\n",
    "\n",
    "\n",
    "    preos_l = PR(Tc=TC, Pc=PC, omega=OMEGA, T=T, P=P)\n",
    "\n",
    "    \n",
    "    sqrt_two = np.sqrt(2)\n",
    "    #solve a_alpha\n",
    "    a_alpha = preos_l.a_alpha_pure(T)\n",
    "\n",
    "    #if this fails try w gas constant instead of R_U\n",
    "    dA_dV_const_T_l_dep = ( (R_U*T)/(vm) ) + ( (R_U*T)/(vm - b) ) - (a_alpha /( 2*sqrt_two*b) )*( (1/(vm+(1+sqrt_two)*b)) - (1/(vm+(1-sqrt_two)*b)) )\n",
    "\n",
    "    du_dvm_const_T_l_dep = dA_dV_const_T_l_dep + P + vm*preos_l.dP_dV_l\n",
    "\n",
    "    #convert to du_drho_const_T\n",
    "    du_drho_const_T_l_dep =  (-MW)/(rho**2)*(du_dvm_const_T_l_dep)\n",
    "\n",
    "    du_drho_const_T_l = du_drho_const_T_l_dep\n",
    "    \n",
    "    #du_drho_const_T_l  = preos_l.dH_dep_dV_l_T -P -vm*preos_l.dP_dV_l\n",
    "\n",
    "    #print(\"checking du_drho_constT_l\", du_drho_const_T_l)\n",
    "    #print(\"checking deriv 1 and 2: \", du_drho_const_T_l, testing_deriv_second_way)\n",
    "\n",
    "    return du_drho_const_T_l\n",
    "\n",
    "\n",
    "T_REF = 200\n",
    "\n",
    "###From NIST:\n",
    "T_NIST = 284 #K\n",
    "rho_NIST_0 = 852.087084084 # kg/m^3\n",
    "P_NIST = 4.5e6\n",
    "\n",
    "vm_0 = MW/rho_NIST_0 \n",
    "preos_l_0 = PR(Tc=TC, Pc=PC, omega=OMEGA, T=T_NIST, V= vm_0)\n",
    "P_0 = preos_l_0.P\n",
    "\n",
    "u_ig_0 = analytical_integration_cp_poly_ig_int_energy(T_REF, T_NIST)\n",
    "u_dep_0 = preos_l_0.U_dep_l\n",
    "u_0 = u_ig_0 + u_dep_0/MW\n",
    "\n",
    "delta_rho = 0.0001 #kg/m^3\n",
    "rho_1 = rho_NIST_0 + delta_rho\n",
    "\n",
    "vm_1 = MW/rho_1\n",
    "preos_l_1 = PR(Tc=TC, Pc=PC, omega=OMEGA, T=T_NIST, V= vm_1)\n",
    "P_1 = preos_l_1.P\n",
    "\n",
    "u_ig_1 = analytical_integration_cp_poly_ig_int_energy(T_REF, T_NIST)\n",
    "u_dep_1 = preos_l_1.U_dep_l\n",
    "u_1 = u_ig_1 + u_dep_1/MW\n",
    "\n",
    "def solve_du_drho_const_T_liq_central_differences(T, rho, delta_rho):\n",
    "    # my bad guys i kept messing up the calculus\n",
    "    rho_0 = rho - delta_rho\n",
    "    vm_0 = MW/rho_0 \n",
    "    preos_l_0 = PR(Tc=TC, Pc=PC, omega=OMEGA, T=T, V= vm_0)\n",
    "    P_0 = preos_l_0.P\n",
    "    u_dep_0 = preos_l_0.U_dep_l\n",
    "\n",
    "    rho_1 = rho + delta_rho\n",
    "    vm_1 = MW/rho_1\n",
    "    preos_l_1 = PR(Tc=TC, Pc=PC, omega=OMEGA, T=T, V= vm_1)\n",
    "    P_1 = preos_l_1.P\n",
    "    u_dep_1 = preos_l_1.U_dep_l\n",
    "\n",
    "    print(\"pressures check: \", P_1, P_0)\n",
    "    central_difference_du_drho_const_T =  ( (u_dep_1/MW) - (u_dep_0/MW) ) / (rho_1-rho_0) #since u_ig = f(T) only, the ideal gas component is the same so take difference in departure function\n",
    "    return central_difference_du_drho_const_T\n",
    "\n",
    "delta_rho = 0.0001 #kg/m^3\n",
    "central_diff_du_drho_const_T = solve_du_drho_const_T_liq_central_differences(T_NIST, rho_NIST_0, delta_rho)\n",
    "\n",
    "\n",
    "NIST_APPROX_du_drho_const_T =  (u_1-u_0) / (rho_1-rho_NIST_0)\n",
    "\n",
    "\n",
    "preos_du_drho_const_T = solve_du_drho_const_T_liq(rho_NIST_0,T_NIST,P_NIST)\n",
    "\n",
    "\n",
    "print(\"numerical derivative vs central differences function for script vs my analytical derivative implementation: \", NIST_APPROX_du_drho_const_T, central_diff_du_drho_const_T, preos_du_drho_const_T)\n",
    "\n"
   ]
  },
  {
   "cell_type": "markdown",
   "metadata": {},
   "source": [
    "Check 8: investigating T_sat --> SHOULD be the same between liq and gas preos objects but a lot of things SHOULD have worked a certain way so investigating"
   ]
  },
  {
   "cell_type": "code",
   "execution_count": null,
   "metadata": {},
   "outputs": [
    {
     "data": {
      "text/plain": [
       "these should be the same!  287.94493237008703 287.94493237008703\n"
      ]
     },
     "metadata": {},
     "output_type": "display_data"
    }
   ],
   "source": [
    "P_tank = 4.5e6 #Pa\n",
    "\n",
    "T_liq = 270.00 #K\n",
    "T_gas = 300 #K \n",
    "\n",
    "preos_g = PR(Tc=TC, Pc=PC, omega=OMEGA, T=T_gas, P=P_tank)\n",
    "T_sat_gas = preos_g.Tsat(P_tank)\n",
    "    \n",
    "preos_l = PR(Tc=TC, Pc=PC, omega=OMEGA, T=T_liq, P=P_tank)\n",
    "T_sat_liq = preos_g.Tsat(P_tank)\n",
    "\n",
    "\n",
    "print(\"these should be the same! \", T_sat_gas, T_sat_liq)"
   ]
  },
  {
   "cell_type": "markdown",
   "metadata": {},
   "source": [
    "Now Problem is definitely with heat transfer!"
   ]
  },
  {
   "cell_type": "markdown",
   "metadata": {},
   "source": [
    "Check 9: Viscosity"
   ]
  },
  {
   "cell_type": "code",
   "execution_count": null,
   "metadata": {},
   "outputs": [
    {
     "ename": "ValueError",
     "evalue": "Viscosity model is not available for this fluid : PropsSI(\"V\",\"P\",4500000,\"T\",270,\"N2O\")",
     "output_type": "error",
     "traceback": [
      "\u001b[0;31m---------------------------------------------------------------------------\u001b[0m",
      "\u001b[0;31mValueError\u001b[0m                                Traceback (most recent call last)",
      "Cell \u001b[0;32mIn[35], line 16\u001b[0m\n\u001b[1;32m     13\u001b[0m \u001b[38;5;28;01mwhile\u001b[39;00m i \u001b[38;5;241m<\u001b[39m \u001b[38;5;28mlen\u001b[39m(rho_nist_arr):\n\u001b[1;32m     14\u001b[0m     kinetic_visc_nist_arr\u001b[38;5;241m.\u001b[39mappend( dyn_visc_nist_arr[i]\u001b[38;5;241m/\u001b[39mrho_nist_arr[i]  )\n\u001b[0;32m---> 16\u001b[0m     cool_visc_arr\u001b[38;5;241m.\u001b[39mappend( \u001b[43mCP\u001b[49m\u001b[38;5;241;43m.\u001b[39;49m\u001b[43mPropsSI\u001b[49m\u001b[43m(\u001b[49m\u001b[38;5;124;43m\"\u001b[39;49m\u001b[38;5;124;43mV\u001b[39;49m\u001b[38;5;124;43m\"\u001b[39;49m\u001b[43m,\u001b[49m\u001b[43m \u001b[49m\u001b[38;5;124;43m\"\u001b[39;49m\u001b[38;5;124;43mP\u001b[39;49m\u001b[38;5;124;43m\"\u001b[39;49m\u001b[43m,\u001b[49m\u001b[43m \u001b[49m\u001b[43mP_nist\u001b[49m\u001b[43m,\u001b[49m\u001b[43m \u001b[49m\u001b[38;5;124;43m\"\u001b[39;49m\u001b[38;5;124;43mT\u001b[39;49m\u001b[38;5;124;43m\"\u001b[39;49m\u001b[43m,\u001b[49m\u001b[43m \u001b[49m\u001b[43mT_arr\u001b[49m\u001b[43m[\u001b[49m\u001b[43mi\u001b[49m\u001b[43m]\u001b[49m\u001b[43m,\u001b[49m\u001b[43m \u001b[49m\u001b[38;5;124;43m\"\u001b[39;49m\u001b[38;5;124;43mN2O\u001b[39;49m\u001b[38;5;124;43m\"\u001b[39;49m\u001b[43m)\u001b[49m)\n\u001b[1;32m     18\u001b[0m     i \u001b[38;5;241m+\u001b[39m\u001b[38;5;241m=\u001b[39m\u001b[38;5;241m1\u001b[39m\n\u001b[1;32m     20\u001b[0m T_crash_arr \u001b[38;5;241m=\u001b[39m []\n",
      "File \u001b[0;32mCoolProp/CoolProp.pyx:391\u001b[0m, in \u001b[0;36mCoolProp.CoolProp.PropsSI\u001b[0;34m()\u001b[0m\n",
      "File \u001b[0;32mCoolProp/CoolProp.pyx:471\u001b[0m, in \u001b[0;36mCoolProp.CoolProp.PropsSI\u001b[0;34m()\u001b[0m\n",
      "File \u001b[0;32mCoolProp/CoolProp.pyx:358\u001b[0m, in \u001b[0;36mCoolProp.CoolProp.__Props_err2\u001b[0;34m()\u001b[0m\n",
      "\u001b[0;31mValueError\u001b[0m: Viscosity model is not available for this fluid : PropsSI(\"V\",\"P\",4500000,\"T\",270,\"N2O\")"
     ]
    }
   ],
   "source": [
    "T_arr = [270,274,278,282,286,290,294,298,302]\n",
    "#cool_visc_arr =[] - coolprop does not have a viscosity model for this fluid\n",
    "chem_visc_arr =[]\n",
    "\n",
    "P_nist= 4.5e6 #Pa\n",
    "T_transition = 288.114642545 #K\n",
    "\n",
    "dyn_visc_nist_arr = [9.85058125277e-05,9.33041389475e-05,8.81023373672e-05,8.28183444560e-05,7.73265569736e-05,1.70451314821e-05,1.70638129150e-05,1.71190505970e-05,1.71974485219e-05] #Pa*s\n",
    "rho_nist_arr = [933.782754682,912.927829134,890.386257968,865.597168019,837.606521862,129.734975611,122.312722828,116.411897939,111.500779097]\n",
    "\n",
    "kinetic_visc_nist_arr = []\n",
    "i = 0\n",
    "while i < len(rho_nist_arr):\n",
    "    kinetic_visc_nist_arr.append( dyn_visc_nist_arr[i]/rho_nist_arr[i]  )\n",
    "\n",
    "    i +=1\n",
    "\n",
    "T_crash_arr = []\n",
    "try:\n",
    "    for T in T_arr:\n",
    "        n2o = Chemical('N2O', T=T, P=P_nist)\n",
    "\n",
    "        if T > T_transition:\n",
    "            visc_chem = n2o.nug\n",
    "\n",
    "        else: \n",
    "            visc_chem = n2o.nul\n",
    "        \n",
    "        T_crash_arr.append(T)\n",
    "        chem_visc_arr.append(visc_chem)\n",
    "\n",
    "\n",
    "except Exception as e:\n",
    "    print(\"error!\")\n",
    "    print(e)\n",
    "\n",
    "\n",
    "\n",
    "plt.scatter(T_crash_arr, chem_visc_arr, label = \"Chemical\", color = 'orchid')\n",
    "plt.scatter(T_arr, kinetic_visc_nist_arr, label = \"nist\", color = 'darkslateblue')\n",
    "plt.ylabel('Latent Heat J/kg')\n",
    "plt.xlabel('Tsat (K)')\n",
    "plt.title('Saturation Temperature vs Pressure for Check 9')\n",
    "plt.legend()\n",
    "plt.grid(True)\n",
    "plt.show()"
   ]
  },
  {
   "cell_type": "markdown",
   "metadata": {},
   "source": [
    "Check 10: thermal conductivity"
   ]
  },
  {
   "cell_type": "code",
   "execution_count": 30,
   "metadata": {},
   "outputs": [
    {
     "data": {
      "image/png": "[encoded data removed]",
      "text/plain": [
       "<Figure size 640x480 with 1 Axes>"
      ]
     },
     "metadata": {},
     "output_type": "display_data"
    }
   ],
   "source": [
    "T_arr = [270,274,278,282,286,290,294,298,302]\n",
    "chem_k_arr =[]\n",
    "\n",
    "P_nist= 4.5e6 #Pa\n",
    "T_transition = 288.114642545 #K\n",
    "\n",
    "thermal_cond_nist_arr = [0.107247765033,0.102612798679,0.0979223787298,0.0931493373211,0.0882517101678,0.0235887970424,0.0228998070686,0.0225525314362,0.0223934406808] # (W/(m*K))\n",
    "\n",
    "T_crash_arr = []\n",
    "try:\n",
    "    for T in T_arr:\n",
    "        n2o = Chemical('N2O', T=T, P=P_nist)\n",
    "\n",
    "        if T > T_transition:\n",
    "            k_chem = n2o.kg\n",
    "\n",
    "        else: \n",
    "            k_chem = n2o.kl\n",
    "        \n",
    "        T_crash_arr.append(T)\n",
    "        chem_k_arr.append(k_chem)\n",
    "\n",
    "\n",
    "except Exception as e:\n",
    "    print(\"error!\")\n",
    "    print(e)\n",
    "\n",
    "\n",
    "\n",
    "plt.scatter(T_crash_arr, chem_k_arr, label = \"Chemical\", color = 'orchid')\n",
    "plt.scatter(T_arr, thermal_cond_nist_arr, label = \"nist\", color = 'darkslateblue')\n",
    "plt.ylabel('Latent Heat J/kg')\n",
    "plt.xlabel('Tsat (K)')\n",
    "plt.title('Saturation Temperature vs Pressure for Check 9')\n",
    "plt.legend()\n",
    "plt.grid(True)\n",
    "plt.show()"
   ]
  }
 ],
 "metadata": {
  "kernelspec": {
   "display_name": "Python 3",
   "language": "python",
   "name": "python3"
  },
  "language_info": {
   "codemirror_mode": {
    "name": "ipython",
    "version": 3
   },
   "file_extension": ".py",
   "mimetype": "text/x-python",
   "name": "python",
   "nbconvert_exporter": "python",
   "pygments_lexer": "ipython3",
   "version": "3.10.12"
  }
 },
 "nbformat": 4,
 "nbformat_minor": 2
}
